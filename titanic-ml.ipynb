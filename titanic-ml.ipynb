{
 "cells": [
  {
   "cell_type": "code",
   "execution_count": 1,
   "id": "af8dddb2",
   "metadata": {
    "_cell_guid": "b1076dfc-b9ad-4769-8c92-a6c4dae69d19",
    "_uuid": "8f2839f25d086af736a60e9eeb907d3b93b6e0e5",
    "execution": {
     "iopub.execute_input": "2024-06-13T17:14:35.220615Z",
     "iopub.status.busy": "2024-06-13T17:14:35.219790Z",
     "iopub.status.idle": "2024-06-13T17:14:36.188088Z",
     "shell.execute_reply": "2024-06-13T17:14:36.186492Z"
    },
    "papermill": {
     "duration": 0.991505,
     "end_time": "2024-06-13T17:14:36.190857",
     "exception": false,
     "start_time": "2024-06-13T17:14:35.199352",
     "status": "completed"
    },
    "tags": []
   },
   "outputs": [
    {
     "name": "stdout",
     "output_type": "stream",
     "text": [
      "/kaggle/input/titanic/train.csv\n",
      "/kaggle/input/titanic/test.csv\n",
      "/kaggle/input/titanic/gender_submission.csv\n"
     ]
    }
   ],
   "source": [
    "# This Python 3 environment comes with many helpful analytics libraries installed\n",
    "# It is defined by the kaggle/python Docker image: https://github.com/kaggle/docker-python\n",
    "# For example, here's several helpful packages to load\n",
    "\n",
    "import numpy as np # linear algebra\n",
    "import pandas as pd # data processing, CSV file I/O (e.g. pd.read_csv)\n",
    "\n",
    "# Input data files are available in the read-only \"../input/\" directory\n",
    "# For example, running this (by clicking run or pressing Shift+Enter) will list all files under the input directory\n",
    "\n",
    "import os\n",
    "for dirname, _, filenames in os.walk('/kaggle/input'):\n",
    "    for filename in filenames:\n",
    "        print(os.path.join(dirname, filename))\n",
    "\n",
    "# You can write up to 20GB to the current directory (/kaggle/working/) that gets preserved as output when you create a version using \"Save & Run All\" \n",
    "# You can also write temporary files to /kaggle/temp/, but they won't be saved outside of the current session"
   ]
  },
  {
   "cell_type": "code",
   "execution_count": 2,
   "id": "e18129fa",
   "metadata": {
    "execution": {
     "iopub.execute_input": "2024-06-13T17:14:36.231947Z",
     "iopub.status.busy": "2024-06-13T17:14:36.231394Z",
     "iopub.status.idle": "2024-06-13T17:14:37.742725Z",
     "shell.execute_reply": "2024-06-13T17:14:37.741563Z"
    },
    "papermill": {
     "duration": 1.535267,
     "end_time": "2024-06-13T17:14:37.745752",
     "exception": false,
     "start_time": "2024-06-13T17:14:36.210485",
     "status": "completed"
    },
    "tags": []
   },
   "outputs": [],
   "source": [
    "#kütüphaneleri yükle\n",
    "import pandas as pd\n",
    "import numpy as np\n",
    "import matplotlib.pyplot as plt\n",
    "import seaborn as sns\n",
    "import warnings\n",
    "warnings.filterwarnings(\"ignore\")"
   ]
  },
  {
   "cell_type": "markdown",
   "id": "eb6a183a",
   "metadata": {
    "papermill": {
     "duration": 0.018945,
     "end_time": "2024-06-13T17:14:37.783604",
     "exception": false,
     "start_time": "2024-06-13T17:14:37.764659",
     "status": "completed"
    },
    "tags": []
   },
   "source": [
    "Read Data"
   ]
  },
  {
   "cell_type": "code",
   "execution_count": 3,
   "id": "0e75df75",
   "metadata": {
    "execution": {
     "iopub.execute_input": "2024-06-13T17:14:37.824362Z",
     "iopub.status.busy": "2024-06-13T17:14:37.823783Z",
     "iopub.status.idle": "2024-06-13T17:14:37.855335Z",
     "shell.execute_reply": "2024-06-13T17:14:37.854190Z"
    },
    "papermill": {
     "duration": 0.055779,
     "end_time": "2024-06-13T17:14:37.858096",
     "exception": false,
     "start_time": "2024-06-13T17:14:37.802317",
     "status": "completed"
    },
    "tags": []
   },
   "outputs": [],
   "source": [
    "#Veri dosyasını yükle\n",
    "df_train=pd.read_csv('/kaggle/input/titanic/train.csv') \n",
    "df_test=pd.read_csv('/kaggle/input/titanic/test.csv')"
   ]
  },
  {
   "cell_type": "code",
   "execution_count": 4,
   "id": "38f1a6ae",
   "metadata": {
    "execution": {
     "iopub.execute_input": "2024-06-13T17:14:37.898278Z",
     "iopub.status.busy": "2024-06-13T17:14:37.897885Z",
     "iopub.status.idle": "2024-06-13T17:14:37.927813Z",
     "shell.execute_reply": "2024-06-13T17:14:37.926599Z"
    },
    "papermill": {
     "duration": 0.053775,
     "end_time": "2024-06-13T17:14:37.930723",
     "exception": false,
     "start_time": "2024-06-13T17:14:37.876948",
     "status": "completed"
    },
    "tags": []
   },
   "outputs": [
    {
     "data": {
      "text/html": [
       "<div>\n",
       "<style scoped>\n",
       "    .dataframe tbody tr th:only-of-type {\n",
       "        vertical-align: middle;\n",
       "    }\n",
       "\n",
       "    .dataframe tbody tr th {\n",
       "        vertical-align: top;\n",
       "    }\n",
       "\n",
       "    .dataframe thead th {\n",
       "        text-align: right;\n",
       "    }\n",
       "</style>\n",
       "<table border=\"1\" class=\"dataframe\">\n",
       "  <thead>\n",
       "    <tr style=\"text-align: right;\">\n",
       "      <th></th>\n",
       "      <th>PassengerId</th>\n",
       "      <th>Survived</th>\n",
       "      <th>Pclass</th>\n",
       "      <th>Name</th>\n",
       "      <th>Sex</th>\n",
       "      <th>Age</th>\n",
       "      <th>SibSp</th>\n",
       "      <th>Parch</th>\n",
       "      <th>Ticket</th>\n",
       "      <th>Fare</th>\n",
       "      <th>Cabin</th>\n",
       "      <th>Embarked</th>\n",
       "    </tr>\n",
       "  </thead>\n",
       "  <tbody>\n",
       "    <tr>\n",
       "      <th>0</th>\n",
       "      <td>1</td>\n",
       "      <td>0</td>\n",
       "      <td>3</td>\n",
       "      <td>Braund, Mr. Owen Harris</td>\n",
       "      <td>male</td>\n",
       "      <td>22.0</td>\n",
       "      <td>1</td>\n",
       "      <td>0</td>\n",
       "      <td>A/5 21171</td>\n",
       "      <td>7.2500</td>\n",
       "      <td>NaN</td>\n",
       "      <td>S</td>\n",
       "    </tr>\n",
       "    <tr>\n",
       "      <th>1</th>\n",
       "      <td>2</td>\n",
       "      <td>1</td>\n",
       "      <td>1</td>\n",
       "      <td>Cumings, Mrs. John Bradley (Florence Briggs Th...</td>\n",
       "      <td>female</td>\n",
       "      <td>38.0</td>\n",
       "      <td>1</td>\n",
       "      <td>0</td>\n",
       "      <td>PC 17599</td>\n",
       "      <td>71.2833</td>\n",
       "      <td>C85</td>\n",
       "      <td>C</td>\n",
       "    </tr>\n",
       "    <tr>\n",
       "      <th>2</th>\n",
       "      <td>3</td>\n",
       "      <td>1</td>\n",
       "      <td>3</td>\n",
       "      <td>Heikkinen, Miss. Laina</td>\n",
       "      <td>female</td>\n",
       "      <td>26.0</td>\n",
       "      <td>0</td>\n",
       "      <td>0</td>\n",
       "      <td>STON/O2. 3101282</td>\n",
       "      <td>7.9250</td>\n",
       "      <td>NaN</td>\n",
       "      <td>S</td>\n",
       "    </tr>\n",
       "    <tr>\n",
       "      <th>3</th>\n",
       "      <td>4</td>\n",
       "      <td>1</td>\n",
       "      <td>1</td>\n",
       "      <td>Futrelle, Mrs. Jacques Heath (Lily May Peel)</td>\n",
       "      <td>female</td>\n",
       "      <td>35.0</td>\n",
       "      <td>1</td>\n",
       "      <td>0</td>\n",
       "      <td>113803</td>\n",
       "      <td>53.1000</td>\n",
       "      <td>C123</td>\n",
       "      <td>S</td>\n",
       "    </tr>\n",
       "    <tr>\n",
       "      <th>4</th>\n",
       "      <td>5</td>\n",
       "      <td>0</td>\n",
       "      <td>3</td>\n",
       "      <td>Allen, Mr. William Henry</td>\n",
       "      <td>male</td>\n",
       "      <td>35.0</td>\n",
       "      <td>0</td>\n",
       "      <td>0</td>\n",
       "      <td>373450</td>\n",
       "      <td>8.0500</td>\n",
       "      <td>NaN</td>\n",
       "      <td>S</td>\n",
       "    </tr>\n",
       "  </tbody>\n",
       "</table>\n",
       "</div>"
      ],
      "text/plain": [
       "   PassengerId  Survived  Pclass  \\\n",
       "0            1         0       3   \n",
       "1            2         1       1   \n",
       "2            3         1       3   \n",
       "3            4         1       1   \n",
       "4            5         0       3   \n",
       "\n",
       "                                                Name     Sex   Age  SibSp  \\\n",
       "0                            Braund, Mr. Owen Harris    male  22.0      1   \n",
       "1  Cumings, Mrs. John Bradley (Florence Briggs Th...  female  38.0      1   \n",
       "2                             Heikkinen, Miss. Laina  female  26.0      0   \n",
       "3       Futrelle, Mrs. Jacques Heath (Lily May Peel)  female  35.0      1   \n",
       "4                           Allen, Mr. William Henry    male  35.0      0   \n",
       "\n",
       "   Parch            Ticket     Fare Cabin Embarked  \n",
       "0      0         A/5 21171   7.2500   NaN        S  \n",
       "1      0          PC 17599  71.2833   C85        C  \n",
       "2      0  STON/O2. 3101282   7.9250   NaN        S  \n",
       "3      0            113803  53.1000  C123        S  \n",
       "4      0            373450   8.0500   NaN        S  "
      ]
     },
     "execution_count": 4,
     "metadata": {},
     "output_type": "execute_result"
    }
   ],
   "source": [
    "df_train.head()"
   ]
  },
  {
   "cell_type": "code",
   "execution_count": 5,
   "id": "f67d18bb",
   "metadata": {
    "execution": {
     "iopub.execute_input": "2024-06-13T17:14:37.970541Z",
     "iopub.status.busy": "2024-06-13T17:14:37.970141Z",
     "iopub.status.idle": "2024-06-13T17:14:37.987389Z",
     "shell.execute_reply": "2024-06-13T17:14:37.986220Z"
    },
    "papermill": {
     "duration": 0.04018,
     "end_time": "2024-06-13T17:14:37.989988",
     "exception": false,
     "start_time": "2024-06-13T17:14:37.949808",
     "status": "completed"
    },
    "tags": []
   },
   "outputs": [
    {
     "data": {
      "text/html": [
       "<div>\n",
       "<style scoped>\n",
       "    .dataframe tbody tr th:only-of-type {\n",
       "        vertical-align: middle;\n",
       "    }\n",
       "\n",
       "    .dataframe tbody tr th {\n",
       "        vertical-align: top;\n",
       "    }\n",
       "\n",
       "    .dataframe thead th {\n",
       "        text-align: right;\n",
       "    }\n",
       "</style>\n",
       "<table border=\"1\" class=\"dataframe\">\n",
       "  <thead>\n",
       "    <tr style=\"text-align: right;\">\n",
       "      <th></th>\n",
       "      <th>PassengerId</th>\n",
       "      <th>Pclass</th>\n",
       "      <th>Name</th>\n",
       "      <th>Sex</th>\n",
       "      <th>Age</th>\n",
       "      <th>SibSp</th>\n",
       "      <th>Parch</th>\n",
       "      <th>Ticket</th>\n",
       "      <th>Fare</th>\n",
       "      <th>Cabin</th>\n",
       "      <th>Embarked</th>\n",
       "    </tr>\n",
       "  </thead>\n",
       "  <tbody>\n",
       "    <tr>\n",
       "      <th>0</th>\n",
       "      <td>892</td>\n",
       "      <td>3</td>\n",
       "      <td>Kelly, Mr. James</td>\n",
       "      <td>male</td>\n",
       "      <td>34.5</td>\n",
       "      <td>0</td>\n",
       "      <td>0</td>\n",
       "      <td>330911</td>\n",
       "      <td>7.8292</td>\n",
       "      <td>NaN</td>\n",
       "      <td>Q</td>\n",
       "    </tr>\n",
       "    <tr>\n",
       "      <th>1</th>\n",
       "      <td>893</td>\n",
       "      <td>3</td>\n",
       "      <td>Wilkes, Mrs. James (Ellen Needs)</td>\n",
       "      <td>female</td>\n",
       "      <td>47.0</td>\n",
       "      <td>1</td>\n",
       "      <td>0</td>\n",
       "      <td>363272</td>\n",
       "      <td>7.0000</td>\n",
       "      <td>NaN</td>\n",
       "      <td>S</td>\n",
       "    </tr>\n",
       "    <tr>\n",
       "      <th>2</th>\n",
       "      <td>894</td>\n",
       "      <td>2</td>\n",
       "      <td>Myles, Mr. Thomas Francis</td>\n",
       "      <td>male</td>\n",
       "      <td>62.0</td>\n",
       "      <td>0</td>\n",
       "      <td>0</td>\n",
       "      <td>240276</td>\n",
       "      <td>9.6875</td>\n",
       "      <td>NaN</td>\n",
       "      <td>Q</td>\n",
       "    </tr>\n",
       "    <tr>\n",
       "      <th>3</th>\n",
       "      <td>895</td>\n",
       "      <td>3</td>\n",
       "      <td>Wirz, Mr. Albert</td>\n",
       "      <td>male</td>\n",
       "      <td>27.0</td>\n",
       "      <td>0</td>\n",
       "      <td>0</td>\n",
       "      <td>315154</td>\n",
       "      <td>8.6625</td>\n",
       "      <td>NaN</td>\n",
       "      <td>S</td>\n",
       "    </tr>\n",
       "    <tr>\n",
       "      <th>4</th>\n",
       "      <td>896</td>\n",
       "      <td>3</td>\n",
       "      <td>Hirvonen, Mrs. Alexander (Helga E Lindqvist)</td>\n",
       "      <td>female</td>\n",
       "      <td>22.0</td>\n",
       "      <td>1</td>\n",
       "      <td>1</td>\n",
       "      <td>3101298</td>\n",
       "      <td>12.2875</td>\n",
       "      <td>NaN</td>\n",
       "      <td>S</td>\n",
       "    </tr>\n",
       "  </tbody>\n",
       "</table>\n",
       "</div>"
      ],
      "text/plain": [
       "   PassengerId  Pclass                                          Name     Sex  \\\n",
       "0          892       3                              Kelly, Mr. James    male   \n",
       "1          893       3              Wilkes, Mrs. James (Ellen Needs)  female   \n",
       "2          894       2                     Myles, Mr. Thomas Francis    male   \n",
       "3          895       3                              Wirz, Mr. Albert    male   \n",
       "4          896       3  Hirvonen, Mrs. Alexander (Helga E Lindqvist)  female   \n",
       "\n",
       "    Age  SibSp  Parch   Ticket     Fare Cabin Embarked  \n",
       "0  34.5      0      0   330911   7.8292   NaN        Q  \n",
       "1  47.0      1      0   363272   7.0000   NaN        S  \n",
       "2  62.0      0      0   240276   9.6875   NaN        Q  \n",
       "3  27.0      0      0   315154   8.6625   NaN        S  \n",
       "4  22.0      1      1  3101298  12.2875   NaN        S  "
      ]
     },
     "execution_count": 5,
     "metadata": {},
     "output_type": "execute_result"
    }
   ],
   "source": [
    "df_test.head()"
   ]
  },
  {
   "cell_type": "code",
   "execution_count": 6,
   "id": "7926a33e",
   "metadata": {
    "execution": {
     "iopub.execute_input": "2024-06-13T17:14:38.033153Z",
     "iopub.status.busy": "2024-06-13T17:14:38.032767Z",
     "iopub.status.idle": "2024-06-13T17:14:38.058858Z",
     "shell.execute_reply": "2024-06-13T17:14:38.057504Z"
    },
    "papermill": {
     "duration": 0.050118,
     "end_time": "2024-06-13T17:14:38.061563",
     "exception": false,
     "start_time": "2024-06-13T17:14:38.011445",
     "status": "completed"
    },
    "tags": []
   },
   "outputs": [
    {
     "name": "stdout",
     "output_type": "stream",
     "text": [
      "<class 'pandas.core.frame.DataFrame'>\n",
      "RangeIndex: 891 entries, 0 to 890\n",
      "Data columns (total 12 columns):\n",
      " #   Column       Non-Null Count  Dtype  \n",
      "---  ------       --------------  -----  \n",
      " 0   PassengerId  891 non-null    int64  \n",
      " 1   Survived     891 non-null    int64  \n",
      " 2   Pclass       891 non-null    int64  \n",
      " 3   Name         891 non-null    object \n",
      " 4   Sex          891 non-null    object \n",
      " 5   Age          714 non-null    float64\n",
      " 6   SibSp        891 non-null    int64  \n",
      " 7   Parch        891 non-null    int64  \n",
      " 8   Ticket       891 non-null    object \n",
      " 9   Fare         891 non-null    float64\n",
      " 10  Cabin        204 non-null    object \n",
      " 11  Embarked     889 non-null    object \n",
      "dtypes: float64(2), int64(5), object(5)\n",
      "memory usage: 83.7+ KB\n"
     ]
    }
   ],
   "source": [
    "df_train.info()"
   ]
  },
  {
   "cell_type": "code",
   "execution_count": 7,
   "id": "b539c2c8",
   "metadata": {
    "execution": {
     "iopub.execute_input": "2024-06-13T17:14:38.102650Z",
     "iopub.status.busy": "2024-06-13T17:14:38.102267Z",
     "iopub.status.idle": "2024-06-13T17:14:38.112192Z",
     "shell.execute_reply": "2024-06-13T17:14:38.111039Z"
    },
    "papermill": {
     "duration": 0.033737,
     "end_time": "2024-06-13T17:14:38.114980",
     "exception": false,
     "start_time": "2024-06-13T17:14:38.081243",
     "status": "completed"
    },
    "tags": []
   },
   "outputs": [
    {
     "data": {
      "text/plain": [
       "PassengerId      0\n",
       "Survived         0\n",
       "Pclass           0\n",
       "Name             0\n",
       "Sex              0\n",
       "Age            177\n",
       "SibSp            0\n",
       "Parch            0\n",
       "Ticket           0\n",
       "Fare             0\n",
       "Cabin          687\n",
       "Embarked         2\n",
       "dtype: int64"
      ]
     },
     "execution_count": 7,
     "metadata": {},
     "output_type": "execute_result"
    }
   ],
   "source": [
    "df_train.isnull().sum()\n"
   ]
  },
  {
   "cell_type": "code",
   "execution_count": 8,
   "id": "546076ab",
   "metadata": {
    "execution": {
     "iopub.execute_input": "2024-06-13T17:14:38.157079Z",
     "iopub.status.busy": "2024-06-13T17:14:38.156677Z",
     "iopub.status.idle": "2024-06-13T17:14:38.191462Z",
     "shell.execute_reply": "2024-06-13T17:14:38.190149Z"
    },
    "papermill": {
     "duration": 0.059351,
     "end_time": "2024-06-13T17:14:38.194276",
     "exception": false,
     "start_time": "2024-06-13T17:14:38.134925",
     "status": "completed"
    },
    "tags": []
   },
   "outputs": [
    {
     "data": {
      "text/html": [
       "<div>\n",
       "<style scoped>\n",
       "    .dataframe tbody tr th:only-of-type {\n",
       "        vertical-align: middle;\n",
       "    }\n",
       "\n",
       "    .dataframe tbody tr th {\n",
       "        vertical-align: top;\n",
       "    }\n",
       "\n",
       "    .dataframe thead th {\n",
       "        text-align: right;\n",
       "    }\n",
       "</style>\n",
       "<table border=\"1\" class=\"dataframe\">\n",
       "  <thead>\n",
       "    <tr style=\"text-align: right;\">\n",
       "      <th></th>\n",
       "      <th>PassengerId</th>\n",
       "      <th>Survived</th>\n",
       "      <th>Pclass</th>\n",
       "      <th>Age</th>\n",
       "      <th>SibSp</th>\n",
       "      <th>Parch</th>\n",
       "      <th>Fare</th>\n",
       "    </tr>\n",
       "  </thead>\n",
       "  <tbody>\n",
       "    <tr>\n",
       "      <th>count</th>\n",
       "      <td>891.000000</td>\n",
       "      <td>891.000000</td>\n",
       "      <td>891.000000</td>\n",
       "      <td>714.000000</td>\n",
       "      <td>891.000000</td>\n",
       "      <td>891.000000</td>\n",
       "      <td>891.000000</td>\n",
       "    </tr>\n",
       "    <tr>\n",
       "      <th>mean</th>\n",
       "      <td>446.000000</td>\n",
       "      <td>0.383838</td>\n",
       "      <td>2.308642</td>\n",
       "      <td>29.699118</td>\n",
       "      <td>0.523008</td>\n",
       "      <td>0.381594</td>\n",
       "      <td>32.204208</td>\n",
       "    </tr>\n",
       "    <tr>\n",
       "      <th>std</th>\n",
       "      <td>257.353842</td>\n",
       "      <td>0.486592</td>\n",
       "      <td>0.836071</td>\n",
       "      <td>14.526497</td>\n",
       "      <td>1.102743</td>\n",
       "      <td>0.806057</td>\n",
       "      <td>49.693429</td>\n",
       "    </tr>\n",
       "    <tr>\n",
       "      <th>min</th>\n",
       "      <td>1.000000</td>\n",
       "      <td>0.000000</td>\n",
       "      <td>1.000000</td>\n",
       "      <td>0.420000</td>\n",
       "      <td>0.000000</td>\n",
       "      <td>0.000000</td>\n",
       "      <td>0.000000</td>\n",
       "    </tr>\n",
       "    <tr>\n",
       "      <th>25%</th>\n",
       "      <td>223.500000</td>\n",
       "      <td>0.000000</td>\n",
       "      <td>2.000000</td>\n",
       "      <td>20.125000</td>\n",
       "      <td>0.000000</td>\n",
       "      <td>0.000000</td>\n",
       "      <td>7.910400</td>\n",
       "    </tr>\n",
       "    <tr>\n",
       "      <th>50%</th>\n",
       "      <td>446.000000</td>\n",
       "      <td>0.000000</td>\n",
       "      <td>3.000000</td>\n",
       "      <td>28.000000</td>\n",
       "      <td>0.000000</td>\n",
       "      <td>0.000000</td>\n",
       "      <td>14.454200</td>\n",
       "    </tr>\n",
       "    <tr>\n",
       "      <th>75%</th>\n",
       "      <td>668.500000</td>\n",
       "      <td>1.000000</td>\n",
       "      <td>3.000000</td>\n",
       "      <td>38.000000</td>\n",
       "      <td>1.000000</td>\n",
       "      <td>0.000000</td>\n",
       "      <td>31.000000</td>\n",
       "    </tr>\n",
       "    <tr>\n",
       "      <th>max</th>\n",
       "      <td>891.000000</td>\n",
       "      <td>1.000000</td>\n",
       "      <td>3.000000</td>\n",
       "      <td>80.000000</td>\n",
       "      <td>8.000000</td>\n",
       "      <td>6.000000</td>\n",
       "      <td>512.329200</td>\n",
       "    </tr>\n",
       "  </tbody>\n",
       "</table>\n",
       "</div>"
      ],
      "text/plain": [
       "       PassengerId    Survived      Pclass         Age       SibSp  \\\n",
       "count   891.000000  891.000000  891.000000  714.000000  891.000000   \n",
       "mean    446.000000    0.383838    2.308642   29.699118    0.523008   \n",
       "std     257.353842    0.486592    0.836071   14.526497    1.102743   \n",
       "min       1.000000    0.000000    1.000000    0.420000    0.000000   \n",
       "25%     223.500000    0.000000    2.000000   20.125000    0.000000   \n",
       "50%     446.000000    0.000000    3.000000   28.000000    0.000000   \n",
       "75%     668.500000    1.000000    3.000000   38.000000    1.000000   \n",
       "max     891.000000    1.000000    3.000000   80.000000    8.000000   \n",
       "\n",
       "            Parch        Fare  \n",
       "count  891.000000  891.000000  \n",
       "mean     0.381594   32.204208  \n",
       "std      0.806057   49.693429  \n",
       "min      0.000000    0.000000  \n",
       "25%      0.000000    7.910400  \n",
       "50%      0.000000   14.454200  \n",
       "75%      0.000000   31.000000  \n",
       "max      6.000000  512.329200  "
      ]
     },
     "execution_count": 8,
     "metadata": {},
     "output_type": "execute_result"
    }
   ],
   "source": [
    "df_train.describe()"
   ]
  },
  {
   "cell_type": "code",
   "execution_count": 9,
   "id": "4c836e69",
   "metadata": {
    "execution": {
     "iopub.execute_input": "2024-06-13T17:14:38.236705Z",
     "iopub.status.busy": "2024-06-13T17:14:38.236313Z",
     "iopub.status.idle": "2024-06-13T17:14:38.259330Z",
     "shell.execute_reply": "2024-06-13T17:14:38.257940Z"
    },
    "papermill": {
     "duration": 0.047472,
     "end_time": "2024-06-13T17:14:38.262210",
     "exception": false,
     "start_time": "2024-06-13T17:14:38.214738",
     "status": "completed"
    },
    "tags": []
   },
   "outputs": [
    {
     "data": {
      "text/html": [
       "<div>\n",
       "<style scoped>\n",
       "    .dataframe tbody tr th:only-of-type {\n",
       "        vertical-align: middle;\n",
       "    }\n",
       "\n",
       "    .dataframe tbody tr th {\n",
       "        vertical-align: top;\n",
       "    }\n",
       "\n",
       "    .dataframe thead th {\n",
       "        text-align: right;\n",
       "    }\n",
       "</style>\n",
       "<table border=\"1\" class=\"dataframe\">\n",
       "  <thead>\n",
       "    <tr style=\"text-align: right;\">\n",
       "      <th></th>\n",
       "      <th>PassengerId</th>\n",
       "      <th>Survived</th>\n",
       "      <th>Pclass</th>\n",
       "      <th>Name</th>\n",
       "      <th>Sex</th>\n",
       "      <th>Age</th>\n",
       "      <th>SibSp</th>\n",
       "      <th>Parch</th>\n",
       "      <th>Ticket</th>\n",
       "      <th>Fare</th>\n",
       "      <th>Cabin</th>\n",
       "      <th>Embarked</th>\n",
       "    </tr>\n",
       "  </thead>\n",
       "  <tbody>\n",
       "    <tr>\n",
       "      <th>0</th>\n",
       "      <td>1</td>\n",
       "      <td>0.0</td>\n",
       "      <td>3</td>\n",
       "      <td>Braund, Mr. Owen Harris</td>\n",
       "      <td>male</td>\n",
       "      <td>22.0</td>\n",
       "      <td>1</td>\n",
       "      <td>0</td>\n",
       "      <td>A/5 21171</td>\n",
       "      <td>7.2500</td>\n",
       "      <td>NaN</td>\n",
       "      <td>S</td>\n",
       "    </tr>\n",
       "    <tr>\n",
       "      <th>1</th>\n",
       "      <td>2</td>\n",
       "      <td>1.0</td>\n",
       "      <td>1</td>\n",
       "      <td>Cumings, Mrs. John Bradley (Florence Briggs Th...</td>\n",
       "      <td>female</td>\n",
       "      <td>38.0</td>\n",
       "      <td>1</td>\n",
       "      <td>0</td>\n",
       "      <td>PC 17599</td>\n",
       "      <td>71.2833</td>\n",
       "      <td>C85</td>\n",
       "      <td>C</td>\n",
       "    </tr>\n",
       "    <tr>\n",
       "      <th>2</th>\n",
       "      <td>3</td>\n",
       "      <td>1.0</td>\n",
       "      <td>3</td>\n",
       "      <td>Heikkinen, Miss. Laina</td>\n",
       "      <td>female</td>\n",
       "      <td>26.0</td>\n",
       "      <td>0</td>\n",
       "      <td>0</td>\n",
       "      <td>STON/O2. 3101282</td>\n",
       "      <td>7.9250</td>\n",
       "      <td>NaN</td>\n",
       "      <td>S</td>\n",
       "    </tr>\n",
       "    <tr>\n",
       "      <th>3</th>\n",
       "      <td>4</td>\n",
       "      <td>1.0</td>\n",
       "      <td>1</td>\n",
       "      <td>Futrelle, Mrs. Jacques Heath (Lily May Peel)</td>\n",
       "      <td>female</td>\n",
       "      <td>35.0</td>\n",
       "      <td>1</td>\n",
       "      <td>0</td>\n",
       "      <td>113803</td>\n",
       "      <td>53.1000</td>\n",
       "      <td>C123</td>\n",
       "      <td>S</td>\n",
       "    </tr>\n",
       "    <tr>\n",
       "      <th>4</th>\n",
       "      <td>5</td>\n",
       "      <td>0.0</td>\n",
       "      <td>3</td>\n",
       "      <td>Allen, Mr. William Henry</td>\n",
       "      <td>male</td>\n",
       "      <td>35.0</td>\n",
       "      <td>0</td>\n",
       "      <td>0</td>\n",
       "      <td>373450</td>\n",
       "      <td>8.0500</td>\n",
       "      <td>NaN</td>\n",
       "      <td>S</td>\n",
       "    </tr>\n",
       "  </tbody>\n",
       "</table>\n",
       "</div>"
      ],
      "text/plain": [
       "   PassengerId  Survived  Pclass  \\\n",
       "0            1       0.0       3   \n",
       "1            2       1.0       1   \n",
       "2            3       1.0       3   \n",
       "3            4       1.0       1   \n",
       "4            5       0.0       3   \n",
       "\n",
       "                                                Name     Sex   Age  SibSp  \\\n",
       "0                            Braund, Mr. Owen Harris    male  22.0      1   \n",
       "1  Cumings, Mrs. John Bradley (Florence Briggs Th...  female  38.0      1   \n",
       "2                             Heikkinen, Miss. Laina  female  26.0      0   \n",
       "3       Futrelle, Mrs. Jacques Heath (Lily May Peel)  female  35.0      1   \n",
       "4                           Allen, Mr. William Henry    male  35.0      0   \n",
       "\n",
       "   Parch            Ticket     Fare Cabin Embarked  \n",
       "0      0         A/5 21171   7.2500   NaN        S  \n",
       "1      0          PC 17599  71.2833   C85        C  \n",
       "2      0  STON/O2. 3101282   7.9250   NaN        S  \n",
       "3      0            113803  53.1000  C123        S  \n",
       "4      0            373450   8.0500   NaN        S  "
      ]
     },
     "execution_count": 9,
     "metadata": {},
     "output_type": "execute_result"
    }
   ],
   "source": [
    "data = pd.concat([df_train,df_test],ignore_index= True)\n",
    "data.head()"
   ]
  },
  {
   "cell_type": "code",
   "execution_count": 10,
   "id": "13cb651e",
   "metadata": {
    "execution": {
     "iopub.execute_input": "2024-06-13T17:14:38.305781Z",
     "iopub.status.busy": "2024-06-13T17:14:38.305376Z",
     "iopub.status.idle": "2024-06-13T17:14:38.320317Z",
     "shell.execute_reply": "2024-06-13T17:14:38.319050Z"
    },
    "papermill": {
     "duration": 0.039676,
     "end_time": "2024-06-13T17:14:38.323293",
     "exception": false,
     "start_time": "2024-06-13T17:14:38.283617",
     "status": "completed"
    },
    "tags": []
   },
   "outputs": [
    {
     "name": "stdout",
     "output_type": "stream",
     "text": [
      "<class 'pandas.core.frame.DataFrame'>\n",
      "RangeIndex: 1309 entries, 0 to 1308\n",
      "Data columns (total 12 columns):\n",
      " #   Column       Non-Null Count  Dtype  \n",
      "---  ------       --------------  -----  \n",
      " 0   PassengerId  1309 non-null   int64  \n",
      " 1   Survived     891 non-null    float64\n",
      " 2   Pclass       1309 non-null   int64  \n",
      " 3   Name         1309 non-null   object \n",
      " 4   Sex          1309 non-null   object \n",
      " 5   Age          1046 non-null   float64\n",
      " 6   SibSp        1309 non-null   int64  \n",
      " 7   Parch        1309 non-null   int64  \n",
      " 8   Ticket       1309 non-null   object \n",
      " 9   Fare         1308 non-null   float64\n",
      " 10  Cabin        295 non-null    object \n",
      " 11  Embarked     1307 non-null   object \n",
      "dtypes: float64(3), int64(4), object(5)\n",
      "memory usage: 122.8+ KB\n"
     ]
    }
   ],
   "source": [
    "data.info()"
   ]
  },
  {
   "cell_type": "code",
   "execution_count": 11,
   "id": "7e6afbc6",
   "metadata": {
    "execution": {
     "iopub.execute_input": "2024-06-13T17:14:38.368040Z",
     "iopub.status.busy": "2024-06-13T17:14:38.367660Z",
     "iopub.status.idle": "2024-06-13T17:14:38.397830Z",
     "shell.execute_reply": "2024-06-13T17:14:38.396738Z"
    },
    "papermill": {
     "duration": 0.056607,
     "end_time": "2024-06-13T17:14:38.400570",
     "exception": false,
     "start_time": "2024-06-13T17:14:38.343963",
     "status": "completed"
    },
    "tags": []
   },
   "outputs": [
    {
     "data": {
      "text/html": [
       "<div>\n",
       "<style scoped>\n",
       "    .dataframe tbody tr th:only-of-type {\n",
       "        vertical-align: middle;\n",
       "    }\n",
       "\n",
       "    .dataframe tbody tr th {\n",
       "        vertical-align: top;\n",
       "    }\n",
       "\n",
       "    .dataframe thead th {\n",
       "        text-align: right;\n",
       "    }\n",
       "</style>\n",
       "<table border=\"1\" class=\"dataframe\">\n",
       "  <thead>\n",
       "    <tr style=\"text-align: right;\">\n",
       "      <th></th>\n",
       "      <th>PassengerId</th>\n",
       "      <th>Survived</th>\n",
       "      <th>Pclass</th>\n",
       "      <th>Age</th>\n",
       "      <th>SibSp</th>\n",
       "      <th>Parch</th>\n",
       "      <th>Fare</th>\n",
       "    </tr>\n",
       "  </thead>\n",
       "  <tbody>\n",
       "    <tr>\n",
       "      <th>count</th>\n",
       "      <td>1309.000000</td>\n",
       "      <td>891.000000</td>\n",
       "      <td>1309.000000</td>\n",
       "      <td>1046.000000</td>\n",
       "      <td>1309.000000</td>\n",
       "      <td>1309.000000</td>\n",
       "      <td>1308.000000</td>\n",
       "    </tr>\n",
       "    <tr>\n",
       "      <th>mean</th>\n",
       "      <td>655.000000</td>\n",
       "      <td>0.383838</td>\n",
       "      <td>2.294882</td>\n",
       "      <td>29.881138</td>\n",
       "      <td>0.498854</td>\n",
       "      <td>0.385027</td>\n",
       "      <td>33.295479</td>\n",
       "    </tr>\n",
       "    <tr>\n",
       "      <th>std</th>\n",
       "      <td>378.020061</td>\n",
       "      <td>0.486592</td>\n",
       "      <td>0.837836</td>\n",
       "      <td>14.413493</td>\n",
       "      <td>1.041658</td>\n",
       "      <td>0.865560</td>\n",
       "      <td>51.758668</td>\n",
       "    </tr>\n",
       "    <tr>\n",
       "      <th>min</th>\n",
       "      <td>1.000000</td>\n",
       "      <td>0.000000</td>\n",
       "      <td>1.000000</td>\n",
       "      <td>0.170000</td>\n",
       "      <td>0.000000</td>\n",
       "      <td>0.000000</td>\n",
       "      <td>0.000000</td>\n",
       "    </tr>\n",
       "    <tr>\n",
       "      <th>25%</th>\n",
       "      <td>328.000000</td>\n",
       "      <td>0.000000</td>\n",
       "      <td>2.000000</td>\n",
       "      <td>21.000000</td>\n",
       "      <td>0.000000</td>\n",
       "      <td>0.000000</td>\n",
       "      <td>7.895800</td>\n",
       "    </tr>\n",
       "    <tr>\n",
       "      <th>50%</th>\n",
       "      <td>655.000000</td>\n",
       "      <td>0.000000</td>\n",
       "      <td>3.000000</td>\n",
       "      <td>28.000000</td>\n",
       "      <td>0.000000</td>\n",
       "      <td>0.000000</td>\n",
       "      <td>14.454200</td>\n",
       "    </tr>\n",
       "    <tr>\n",
       "      <th>75%</th>\n",
       "      <td>982.000000</td>\n",
       "      <td>1.000000</td>\n",
       "      <td>3.000000</td>\n",
       "      <td>39.000000</td>\n",
       "      <td>1.000000</td>\n",
       "      <td>0.000000</td>\n",
       "      <td>31.275000</td>\n",
       "    </tr>\n",
       "    <tr>\n",
       "      <th>max</th>\n",
       "      <td>1309.000000</td>\n",
       "      <td>1.000000</td>\n",
       "      <td>3.000000</td>\n",
       "      <td>80.000000</td>\n",
       "      <td>8.000000</td>\n",
       "      <td>9.000000</td>\n",
       "      <td>512.329200</td>\n",
       "    </tr>\n",
       "  </tbody>\n",
       "</table>\n",
       "</div>"
      ],
      "text/plain": [
       "       PassengerId    Survived       Pclass          Age        SibSp  \\\n",
       "count  1309.000000  891.000000  1309.000000  1046.000000  1309.000000   \n",
       "mean    655.000000    0.383838     2.294882    29.881138     0.498854   \n",
       "std     378.020061    0.486592     0.837836    14.413493     1.041658   \n",
       "min       1.000000    0.000000     1.000000     0.170000     0.000000   \n",
       "25%     328.000000    0.000000     2.000000    21.000000     0.000000   \n",
       "50%     655.000000    0.000000     3.000000    28.000000     0.000000   \n",
       "75%     982.000000    1.000000     3.000000    39.000000     1.000000   \n",
       "max    1309.000000    1.000000     3.000000    80.000000     8.000000   \n",
       "\n",
       "             Parch         Fare  \n",
       "count  1309.000000  1308.000000  \n",
       "mean      0.385027    33.295479  \n",
       "std       0.865560    51.758668  \n",
       "min       0.000000     0.000000  \n",
       "25%       0.000000     7.895800  \n",
       "50%       0.000000    14.454200  \n",
       "75%       0.000000    31.275000  \n",
       "max       9.000000   512.329200  "
      ]
     },
     "execution_count": 11,
     "metadata": {},
     "output_type": "execute_result"
    }
   ],
   "source": [
    "data.describe()"
   ]
  },
  {
   "cell_type": "code",
   "execution_count": 12,
   "id": "6d455020",
   "metadata": {
    "execution": {
     "iopub.execute_input": "2024-06-13T17:14:38.444050Z",
     "iopub.status.busy": "2024-06-13T17:14:38.443674Z",
     "iopub.status.idle": "2024-06-13T17:14:38.450895Z",
     "shell.execute_reply": "2024-06-13T17:14:38.449712Z"
    },
    "papermill": {
     "duration": 0.031922,
     "end_time": "2024-06-13T17:14:38.453570",
     "exception": false,
     "start_time": "2024-06-13T17:14:38.421648",
     "status": "completed"
    },
    "tags": []
   },
   "outputs": [
    {
     "data": {
      "text/plain": [
       "((891, 12), (418, 11), (1309, 12))"
      ]
     },
     "execution_count": 12,
     "metadata": {},
     "output_type": "execute_result"
    }
   ],
   "source": [
    "df_train.shape,df_test.shape,data.shape"
   ]
  },
  {
   "cell_type": "code",
   "execution_count": 13,
   "id": "2669f1ea",
   "metadata": {
    "execution": {
     "iopub.execute_input": "2024-06-13T17:14:38.498108Z",
     "iopub.status.busy": "2024-06-13T17:14:38.497041Z",
     "iopub.status.idle": "2024-06-13T17:14:38.507960Z",
     "shell.execute_reply": "2024-06-13T17:14:38.506862Z"
    },
    "papermill": {
     "duration": 0.035879,
     "end_time": "2024-06-13T17:14:38.510491",
     "exception": false,
     "start_time": "2024-06-13T17:14:38.474612",
     "status": "completed"
    },
    "tags": []
   },
   "outputs": [
    {
     "data": {
      "text/plain": [
       "PassengerId       0\n",
       "Survived        418\n",
       "Pclass            0\n",
       "Name              0\n",
       "Sex               0\n",
       "Age             263\n",
       "SibSp             0\n",
       "Parch             0\n",
       "Ticket            0\n",
       "Fare              1\n",
       "Cabin          1014\n",
       "Embarked          2\n",
       "dtype: int64"
      ]
     },
     "execution_count": 13,
     "metadata": {},
     "output_type": "execute_result"
    }
   ],
   "source": [
    "data.isnull().sum()\n"
   ]
  },
  {
   "cell_type": "code",
   "execution_count": 14,
   "id": "9a11d121",
   "metadata": {
    "execution": {
     "iopub.execute_input": "2024-06-13T17:14:38.555180Z",
     "iopub.status.busy": "2024-06-13T17:14:38.554751Z",
     "iopub.status.idle": "2024-06-13T17:14:38.563806Z",
     "shell.execute_reply": "2024-06-13T17:14:38.562798Z"
    },
    "papermill": {
     "duration": 0.034056,
     "end_time": "2024-06-13T17:14:38.566221",
     "exception": false,
     "start_time": "2024-06-13T17:14:38.532165",
     "status": "completed"
    },
    "tags": []
   },
   "outputs": [
    {
     "data": {
      "text/plain": [
       "Embarked\n",
       "S    914\n",
       "C    270\n",
       "Q    123\n",
       "Name: count, dtype: int64"
      ]
     },
     "execution_count": 14,
     "metadata": {},
     "output_type": "execute_result"
    }
   ],
   "source": [
    "data['Embarked'].value_counts()"
   ]
  },
  {
   "cell_type": "code",
   "execution_count": 15,
   "id": "a576438d",
   "metadata": {
    "execution": {
     "iopub.execute_input": "2024-06-13T17:14:38.610667Z",
     "iopub.status.busy": "2024-06-13T17:14:38.610263Z",
     "iopub.status.idle": "2024-06-13T17:14:38.632157Z",
     "shell.execute_reply": "2024-06-13T17:14:38.630954Z"
    },
    "papermill": {
     "duration": 0.047201,
     "end_time": "2024-06-13T17:14:38.634784",
     "exception": false,
     "start_time": "2024-06-13T17:14:38.587583",
     "status": "completed"
    },
    "tags": []
   },
   "outputs": [
    {
     "data": {
      "text/html": [
       "<div>\n",
       "<style scoped>\n",
       "    .dataframe tbody tr th:only-of-type {\n",
       "        vertical-align: middle;\n",
       "    }\n",
       "\n",
       "    .dataframe tbody tr th {\n",
       "        vertical-align: top;\n",
       "    }\n",
       "\n",
       "    .dataframe thead th {\n",
       "        text-align: right;\n",
       "    }\n",
       "</style>\n",
       "<table border=\"1\" class=\"dataframe\">\n",
       "  <thead>\n",
       "    <tr style=\"text-align: right;\">\n",
       "      <th></th>\n",
       "      <th>PassengerId</th>\n",
       "      <th>Survived</th>\n",
       "      <th>Pclass</th>\n",
       "      <th>Name</th>\n",
       "      <th>Sex</th>\n",
       "      <th>Age</th>\n",
       "      <th>SibSp</th>\n",
       "      <th>Parch</th>\n",
       "      <th>Ticket</th>\n",
       "      <th>Fare</th>\n",
       "      <th>Cabin</th>\n",
       "      <th>Embarked</th>\n",
       "    </tr>\n",
       "  </thead>\n",
       "  <tbody>\n",
       "    <tr>\n",
       "      <th>61</th>\n",
       "      <td>62</td>\n",
       "      <td>1.0</td>\n",
       "      <td>1</td>\n",
       "      <td>Icard, Miss. Amelie</td>\n",
       "      <td>female</td>\n",
       "      <td>38.0</td>\n",
       "      <td>0</td>\n",
       "      <td>0</td>\n",
       "      <td>113572</td>\n",
       "      <td>80.0</td>\n",
       "      <td>B28</td>\n",
       "      <td>NaN</td>\n",
       "    </tr>\n",
       "    <tr>\n",
       "      <th>829</th>\n",
       "      <td>830</td>\n",
       "      <td>1.0</td>\n",
       "      <td>1</td>\n",
       "      <td>Stone, Mrs. George Nelson (Martha Evelyn)</td>\n",
       "      <td>female</td>\n",
       "      <td>62.0</td>\n",
       "      <td>0</td>\n",
       "      <td>0</td>\n",
       "      <td>113572</td>\n",
       "      <td>80.0</td>\n",
       "      <td>B28</td>\n",
       "      <td>NaN</td>\n",
       "    </tr>\n",
       "  </tbody>\n",
       "</table>\n",
       "</div>"
      ],
      "text/plain": [
       "     PassengerId  Survived  Pclass                                       Name  \\\n",
       "61            62       1.0       1                        Icard, Miss. Amelie   \n",
       "829          830       1.0       1  Stone, Mrs. George Nelson (Martha Evelyn)   \n",
       "\n",
       "        Sex   Age  SibSp  Parch  Ticket  Fare Cabin Embarked  \n",
       "61   female  38.0      0      0  113572  80.0   B28      NaN  \n",
       "829  female  62.0      0      0  113572  80.0   B28      NaN  "
      ]
     },
     "execution_count": 15,
     "metadata": {},
     "output_type": "execute_result"
    }
   ],
   "source": [
    "data[data['Embarked'].isnull()]"
   ]
  },
  {
   "cell_type": "code",
   "execution_count": 16,
   "id": "cfd16eee",
   "metadata": {
    "execution": {
     "iopub.execute_input": "2024-06-13T17:14:38.679982Z",
     "iopub.status.busy": "2024-06-13T17:14:38.679589Z",
     "iopub.status.idle": "2024-06-13T17:14:38.690303Z",
     "shell.execute_reply": "2024-06-13T17:14:38.689107Z"
    },
    "papermill": {
     "duration": 0.03629,
     "end_time": "2024-06-13T17:14:38.692960",
     "exception": false,
     "start_time": "2024-06-13T17:14:38.656670",
     "status": "completed"
    },
    "tags": []
   },
   "outputs": [
    {
     "data": {
      "text/plain": [
       "0"
      ]
     },
     "execution_count": 16,
     "metadata": {},
     "output_type": "execute_result"
    }
   ],
   "source": [
    "#Embarked ekiks veiryi doldur\n",
    "#en çok tekrar eden değeri kullan\n",
    "data['Embarked'].fillna(data['Embarked'].mode()[0],inplace=True) #data['Embarked'].mode()[0] birden fazla mod olabilir o yüzden ilkini al\n",
    "data['Embarked'].isnull().sum()"
   ]
  },
  {
   "cell_type": "code",
   "execution_count": 17,
   "id": "3ae3e5c4",
   "metadata": {
    "execution": {
     "iopub.execute_input": "2024-06-13T17:14:38.738280Z",
     "iopub.status.busy": "2024-06-13T17:14:38.737862Z",
     "iopub.status.idle": "2024-06-13T17:14:38.750007Z",
     "shell.execute_reply": "2024-06-13T17:14:38.748836Z"
    },
    "papermill": {
     "duration": 0.037753,
     "end_time": "2024-06-13T17:14:38.752494",
     "exception": false,
     "start_time": "2024-06-13T17:14:38.714741",
     "status": "completed"
    },
    "tags": []
   },
   "outputs": [
    {
     "data": {
      "text/plain": [
       "Age\n",
       "24.0    47\n",
       "22.0    43\n",
       "21.0    41\n",
       "30.0    40\n",
       "18.0    39\n",
       "        ..\n",
       "23.5     1\n",
       "70.5     1\n",
       "55.5     1\n",
       "20.5     1\n",
       "38.5     1\n",
       "Name: count, Length: 98, dtype: int64"
      ]
     },
     "execution_count": 17,
     "metadata": {},
     "output_type": "execute_result"
    }
   ],
   "source": [
    "data['Age'].value_counts()"
   ]
  },
  {
   "cell_type": "code",
   "execution_count": 18,
   "id": "662a2689",
   "metadata": {
    "execution": {
     "iopub.execute_input": "2024-06-13T17:14:38.799388Z",
     "iopub.status.busy": "2024-06-13T17:14:38.798973Z",
     "iopub.status.idle": "2024-06-13T17:14:38.806927Z",
     "shell.execute_reply": "2024-06-13T17:14:38.805728Z"
    },
    "papermill": {
     "duration": 0.034794,
     "end_time": "2024-06-13T17:14:38.809614",
     "exception": false,
     "start_time": "2024-06-13T17:14:38.774820",
     "status": "completed"
    },
    "tags": []
   },
   "outputs": [
    {
     "data": {
      "text/plain": [
       "263"
      ]
     },
     "execution_count": 18,
     "metadata": {},
     "output_type": "execute_result"
    }
   ],
   "source": [
    "data['Age'].isnull().sum()"
   ]
  },
  {
   "cell_type": "markdown",
   "id": "c464438e",
   "metadata": {
    "papermill": {
     "duration": 0.022513,
     "end_time": "2024-06-13T17:14:38.854112",
     "exception": false,
     "start_time": "2024-06-13T17:14:38.831599",
     "status": "completed"
    },
    "tags": []
   },
   "source": [
    "Ünvan Çıkarımı"
   ]
  },
  {
   "cell_type": "code",
   "execution_count": 19,
   "id": "252f06db",
   "metadata": {
    "execution": {
     "iopub.execute_input": "2024-06-13T17:14:38.900833Z",
     "iopub.status.busy": "2024-06-13T17:14:38.900071Z",
     "iopub.status.idle": "2024-06-13T17:14:38.913353Z",
     "shell.execute_reply": "2024-06-13T17:14:38.912223Z"
    },
    "papermill": {
     "duration": 0.039741,
     "end_time": "2024-06-13T17:14:38.916076",
     "exception": false,
     "start_time": "2024-06-13T17:14:38.876335",
     "status": "completed"
    },
    "tags": []
   },
   "outputs": [],
   "source": [
    "#Unvanları alalım\n",
    "data['Title']=data['Name'].str.extract('([A-Za-z]+)\\.')"
   ]
  },
  {
   "cell_type": "code",
   "execution_count": 20,
   "id": "3d663386",
   "metadata": {
    "execution": {
     "iopub.execute_input": "2024-06-13T17:14:38.962435Z",
     "iopub.status.busy": "2024-06-13T17:14:38.961533Z",
     "iopub.status.idle": "2024-06-13T17:14:38.971766Z",
     "shell.execute_reply": "2024-06-13T17:14:38.970405Z"
    },
    "papermill": {
     "duration": 0.036169,
     "end_time": "2024-06-13T17:14:38.974399",
     "exception": false,
     "start_time": "2024-06-13T17:14:38.938230",
     "status": "completed"
    },
    "tags": []
   },
   "outputs": [
    {
     "data": {
      "text/plain": [
       "Title\n",
       "Mr          757\n",
       "Miss        260\n",
       "Mrs         197\n",
       "Master       61\n",
       "Rev           8\n",
       "Dr            8\n",
       "Col           4\n",
       "Mlle          2\n",
       "Major         2\n",
       "Ms            2\n",
       "Lady          1\n",
       "Sir           1\n",
       "Mme           1\n",
       "Don           1\n",
       "Capt          1\n",
       "Countess      1\n",
       "Jonkheer      1\n",
       "Dona          1\n",
       "Name: count, dtype: int64"
      ]
     },
     "execution_count": 20,
     "metadata": {},
     "output_type": "execute_result"
    }
   ],
   "source": [
    "#hangi unvanlar var\n",
    "data['Title'].value_counts()"
   ]
  },
  {
   "cell_type": "code",
   "execution_count": 21,
   "id": "1e4c4e69",
   "metadata": {
    "execution": {
     "iopub.execute_input": "2024-06-13T17:14:39.085838Z",
     "iopub.status.busy": "2024-06-13T17:14:39.084904Z",
     "iopub.status.idle": "2024-06-13T17:14:39.098883Z",
     "shell.execute_reply": "2024-06-13T17:14:39.097409Z"
    },
    "papermill": {
     "duration": 0.041529,
     "end_time": "2024-06-13T17:14:39.101982",
     "exception": false,
     "start_time": "2024-06-13T17:14:39.060453",
     "status": "completed"
    },
    "tags": []
   },
   "outputs": [],
   "source": [
    "#Fransızca veya diğer dillerdeki ünvanları uygn şekilde çevirdik\n",
    "data['Title']=data['Title'].replace(['Ms','Mlle'],'Miss')\n",
    "data['Title']=data['Title'].replace(['Mme','Countess','Lady','Dona'],'Mrs')\n",
    "data['Title']=data['Title'].replace(['Capt','Col','Don','Dr','Major','Rev','Sir','Jonkheer'],'Mr')"
   ]
  },
  {
   "cell_type": "code",
   "execution_count": 22,
   "id": "54cb7261",
   "metadata": {
    "execution": {
     "iopub.execute_input": "2024-06-13T17:14:39.150143Z",
     "iopub.status.busy": "2024-06-13T17:14:39.149739Z",
     "iopub.status.idle": "2024-06-13T17:14:39.159443Z",
     "shell.execute_reply": "2024-06-13T17:14:39.158164Z"
    },
    "papermill": {
     "duration": 0.037167,
     "end_time": "2024-06-13T17:14:39.162049",
     "exception": false,
     "start_time": "2024-06-13T17:14:39.124882",
     "status": "completed"
    },
    "tags": []
   },
   "outputs": [
    {
     "data": {
      "text/plain": [
       "Title\n",
       "Mr        783\n",
       "Miss      264\n",
       "Mrs       201\n",
       "Master     61\n",
       "Name: count, dtype: int64"
      ]
     },
     "execution_count": 22,
     "metadata": {},
     "output_type": "execute_result"
    }
   ],
   "source": [
    "data['Title'].value_counts()"
   ]
  },
  {
   "cell_type": "code",
   "execution_count": 23,
   "id": "193eac99",
   "metadata": {
    "execution": {
     "iopub.execute_input": "2024-06-13T17:14:39.208924Z",
     "iopub.status.busy": "2024-06-13T17:14:39.208534Z",
     "iopub.status.idle": "2024-06-13T17:14:39.222615Z",
     "shell.execute_reply": "2024-06-13T17:14:39.221433Z"
    },
    "papermill": {
     "duration": 0.040626,
     "end_time": "2024-06-13T17:14:39.225324",
     "exception": false,
     "start_time": "2024-06-13T17:14:39.184698",
     "status": "completed"
    },
    "tags": []
   },
   "outputs": [
    {
     "data": {
      "text/plain": [
       "0"
      ]
     },
     "execution_count": 23,
     "metadata": {},
     "output_type": "execute_result"
    }
   ],
   "source": [
    "#Yaş değerlerini doldur\n",
    "data['Age'].fillna(data.groupby('Title')['Age'].transform('mean'),inplace=True) # unvanların yaş ortalamalarına göre eksik yaşları doldur\n",
    "data['Age'].isnull().sum()"
   ]
  },
  {
   "cell_type": "code",
   "execution_count": 24,
   "id": "4fde7440",
   "metadata": {
    "execution": {
     "iopub.execute_input": "2024-06-13T17:14:39.273033Z",
     "iopub.status.busy": "2024-06-13T17:14:39.272663Z",
     "iopub.status.idle": "2024-06-13T17:14:39.283072Z",
     "shell.execute_reply": "2024-06-13T17:14:39.282003Z"
    },
    "papermill": {
     "duration": 0.037408,
     "end_time": "2024-06-13T17:14:39.285664",
     "exception": false,
     "start_time": "2024-06-13T17:14:39.248256",
     "status": "completed"
    },
    "tags": []
   },
   "outputs": [
    {
     "data": {
      "text/plain": [
       "PassengerId       0\n",
       "Survived        418\n",
       "Pclass            0\n",
       "Name              0\n",
       "Sex               0\n",
       "Age               0\n",
       "SibSp             0\n",
       "Parch             0\n",
       "Ticket            0\n",
       "Fare              1\n",
       "Cabin          1014\n",
       "Embarked          0\n",
       "Title             0\n",
       "dtype: int64"
      ]
     },
     "execution_count": 24,
     "metadata": {},
     "output_type": "execute_result"
    }
   ],
   "source": [
    "data.isnull().sum()"
   ]
  },
  {
   "cell_type": "code",
   "execution_count": 25,
   "id": "ae53e878",
   "metadata": {
    "execution": {
     "iopub.execute_input": "2024-06-13T17:14:39.335245Z",
     "iopub.status.busy": "2024-06-13T17:14:39.334065Z",
     "iopub.status.idle": "2024-06-13T17:14:39.352607Z",
     "shell.execute_reply": "2024-06-13T17:14:39.351244Z"
    },
    "papermill": {
     "duration": 0.046256,
     "end_time": "2024-06-13T17:14:39.355313",
     "exception": false,
     "start_time": "2024-06-13T17:14:39.309057",
     "status": "completed"
    },
    "tags": []
   },
   "outputs": [
    {
     "data": {
      "text/html": [
       "<div>\n",
       "<style scoped>\n",
       "    .dataframe tbody tr th:only-of-type {\n",
       "        vertical-align: middle;\n",
       "    }\n",
       "\n",
       "    .dataframe tbody tr th {\n",
       "        vertical-align: top;\n",
       "    }\n",
       "\n",
       "    .dataframe thead th {\n",
       "        text-align: right;\n",
       "    }\n",
       "</style>\n",
       "<table border=\"1\" class=\"dataframe\">\n",
       "  <thead>\n",
       "    <tr style=\"text-align: right;\">\n",
       "      <th></th>\n",
       "      <th>PassengerId</th>\n",
       "      <th>Survived</th>\n",
       "      <th>Pclass</th>\n",
       "      <th>Name</th>\n",
       "      <th>Sex</th>\n",
       "      <th>Age</th>\n",
       "      <th>SibSp</th>\n",
       "      <th>Parch</th>\n",
       "      <th>Ticket</th>\n",
       "      <th>Fare</th>\n",
       "      <th>Cabin</th>\n",
       "      <th>Embarked</th>\n",
       "      <th>Title</th>\n",
       "    </tr>\n",
       "  </thead>\n",
       "  <tbody>\n",
       "    <tr>\n",
       "      <th>1043</th>\n",
       "      <td>1044</td>\n",
       "      <td>NaN</td>\n",
       "      <td>3</td>\n",
       "      <td>Storey, Mr. Thomas</td>\n",
       "      <td>male</td>\n",
       "      <td>60.5</td>\n",
       "      <td>0</td>\n",
       "      <td>0</td>\n",
       "      <td>3701</td>\n",
       "      <td>NaN</td>\n",
       "      <td>NaN</td>\n",
       "      <td>S</td>\n",
       "      <td>Mr</td>\n",
       "    </tr>\n",
       "  </tbody>\n",
       "</table>\n",
       "</div>"
      ],
      "text/plain": [
       "      PassengerId  Survived  Pclass                Name   Sex   Age  SibSp  \\\n",
       "1043         1044       NaN       3  Storey, Mr. Thomas  male  60.5      0   \n",
       "\n",
       "      Parch Ticket  Fare Cabin Embarked Title  \n",
       "1043      0   3701   NaN   NaN        S    Mr  "
      ]
     },
     "execution_count": 25,
     "metadata": {},
     "output_type": "execute_result"
    }
   ],
   "source": [
    "data[data['Fare'].isnull()]"
   ]
  },
  {
   "cell_type": "code",
   "execution_count": 26,
   "id": "da944dcc",
   "metadata": {
    "execution": {
     "iopub.execute_input": "2024-06-13T17:14:39.406057Z",
     "iopub.status.busy": "2024-06-13T17:14:39.405689Z",
     "iopub.status.idle": "2024-06-13T17:14:39.418711Z",
     "shell.execute_reply": "2024-06-13T17:14:39.417444Z"
    },
    "papermill": {
     "duration": 0.040795,
     "end_time": "2024-06-13T17:14:39.421495",
     "exception": false,
     "start_time": "2024-06-13T17:14:39.380700",
     "status": "completed"
    },
    "tags": []
   },
   "outputs": [
    {
     "data": {
      "text/plain": [
       "count    1308.000000\n",
       "mean       33.295479\n",
       "std        51.758668\n",
       "min         0.000000\n",
       "25%         7.895800\n",
       "50%        14.454200\n",
       "75%        31.275000\n",
       "max       512.329200\n",
       "Name: Fare, dtype: float64"
      ]
     },
     "execution_count": 26,
     "metadata": {},
     "output_type": "execute_result"
    }
   ],
   "source": [
    "data['Fare'].describe()"
   ]
  },
  {
   "cell_type": "code",
   "execution_count": 27,
   "id": "01cb5721",
   "metadata": {
    "execution": {
     "iopub.execute_input": "2024-06-13T17:14:39.470348Z",
     "iopub.status.busy": "2024-06-13T17:14:39.469907Z",
     "iopub.status.idle": "2024-06-13T17:14:39.478205Z",
     "shell.execute_reply": "2024-06-13T17:14:39.477109Z"
    },
    "papermill": {
     "duration": 0.035369,
     "end_time": "2024-06-13T17:14:39.480605",
     "exception": false,
     "start_time": "2024-06-13T17:14:39.445236",
     "status": "completed"
    },
    "tags": []
   },
   "outputs": [
    {
     "data": {
      "text/plain": [
       "14.4542"
      ]
     },
     "execution_count": 27,
     "metadata": {},
     "output_type": "execute_result"
    }
   ],
   "source": [
    "data['Fare'].median()"
   ]
  },
  {
   "cell_type": "code",
   "execution_count": 28,
   "id": "6ef4e0f1",
   "metadata": {
    "execution": {
     "iopub.execute_input": "2024-06-13T17:14:39.530390Z",
     "iopub.status.busy": "2024-06-13T17:14:39.529923Z",
     "iopub.status.idle": "2024-06-13T17:14:39.551367Z",
     "shell.execute_reply": "2024-06-13T17:14:39.549800Z"
    },
    "papermill": {
     "duration": 0.049325,
     "end_time": "2024-06-13T17:14:39.554122",
     "exception": false,
     "start_time": "2024-06-13T17:14:39.504797",
     "status": "completed"
    },
    "tags": []
   },
   "outputs": [
    {
     "data": {
      "text/plain": [
       "0"
      ]
     },
     "execution_count": 28,
     "metadata": {},
     "output_type": "execute_result"
    }
   ],
   "source": [
    "data['Fare'] = data.groupby(['Pclass', 'Embarked'])['Fare'].transform(lambda x: x.fillna(x.median()))\n",
    "data['Fare'].isnull().sum()"
   ]
  },
  {
   "cell_type": "code",
   "execution_count": 29,
   "id": "04f8ce65",
   "metadata": {
    "execution": {
     "iopub.execute_input": "2024-06-13T17:14:39.605838Z",
     "iopub.status.busy": "2024-06-13T17:14:39.605441Z",
     "iopub.status.idle": "2024-06-13T17:14:39.616809Z",
     "shell.execute_reply": "2024-06-13T17:14:39.615626Z"
    },
    "papermill": {
     "duration": 0.040773,
     "end_time": "2024-06-13T17:14:39.619441",
     "exception": false,
     "start_time": "2024-06-13T17:14:39.578668",
     "status": "completed"
    },
    "tags": []
   },
   "outputs": [
    {
     "data": {
      "text/plain": [
       "PassengerId       0\n",
       "Survived        418\n",
       "Pclass            0\n",
       "Name              0\n",
       "Sex               0\n",
       "Age               0\n",
       "SibSp             0\n",
       "Parch             0\n",
       "Ticket            0\n",
       "Fare              0\n",
       "Cabin          1014\n",
       "Embarked          0\n",
       "Title             0\n",
       "dtype: int64"
      ]
     },
     "execution_count": 29,
     "metadata": {},
     "output_type": "execute_result"
    }
   ],
   "source": [
    "data.isnull().sum()"
   ]
  },
  {
   "cell_type": "code",
   "execution_count": 30,
   "id": "2bd324b0",
   "metadata": {
    "execution": {
     "iopub.execute_input": "2024-06-13T17:14:39.671581Z",
     "iopub.status.busy": "2024-06-13T17:14:39.670425Z",
     "iopub.status.idle": "2024-06-13T17:14:39.677669Z",
     "shell.execute_reply": "2024-06-13T17:14:39.676522Z"
    },
    "papermill": {
     "duration": 0.036838,
     "end_time": "2024-06-13T17:14:39.680710",
     "exception": false,
     "start_time": "2024-06-13T17:14:39.643872",
     "status": "completed"
    },
    "tags": []
   },
   "outputs": [],
   "source": [
    "data = data.drop(['Cabin'],axis=1)"
   ]
  },
  {
   "cell_type": "code",
   "execution_count": 31,
   "id": "5a51618f",
   "metadata": {
    "execution": {
     "iopub.execute_input": "2024-06-13T17:14:39.730928Z",
     "iopub.status.busy": "2024-06-13T17:14:39.730530Z",
     "iopub.status.idle": "2024-06-13T17:14:39.742368Z",
     "shell.execute_reply": "2024-06-13T17:14:39.741204Z"
    },
    "papermill": {
     "duration": 0.040157,
     "end_time": "2024-06-13T17:14:39.744884",
     "exception": false,
     "start_time": "2024-06-13T17:14:39.704727",
     "status": "completed"
    },
    "tags": []
   },
   "outputs": [
    {
     "data": {
      "text/plain": [
       "PassengerId      0\n",
       "Survived       418\n",
       "Pclass           0\n",
       "Name             0\n",
       "Sex              0\n",
       "Age              0\n",
       "SibSp            0\n",
       "Parch            0\n",
       "Ticket           0\n",
       "Fare             0\n",
       "Embarked         0\n",
       "Title            0\n",
       "dtype: int64"
      ]
     },
     "execution_count": 31,
     "metadata": {},
     "output_type": "execute_result"
    }
   ],
   "source": [
    "data.isnull().sum()"
   ]
  },
  {
   "cell_type": "code",
   "execution_count": 32,
   "id": "69e7391f",
   "metadata": {
    "execution": {
     "iopub.execute_input": "2024-06-13T17:14:39.795426Z",
     "iopub.status.busy": "2024-06-13T17:14:39.795028Z",
     "iopub.status.idle": "2024-06-13T17:14:39.808235Z",
     "shell.execute_reply": "2024-06-13T17:14:39.807089Z"
    },
    "papermill": {
     "duration": 0.041576,
     "end_time": "2024-06-13T17:14:39.811164",
     "exception": false,
     "start_time": "2024-06-13T17:14:39.769588",
     "status": "completed"
    },
    "tags": []
   },
   "outputs": [
    {
     "name": "stdout",
     "output_type": "stream",
     "text": [
      "<class 'pandas.core.frame.DataFrame'>\n",
      "RangeIndex: 1309 entries, 0 to 1308\n",
      "Data columns (total 12 columns):\n",
      " #   Column       Non-Null Count  Dtype  \n",
      "---  ------       --------------  -----  \n",
      " 0   PassengerId  1309 non-null   int64  \n",
      " 1   Survived     891 non-null    float64\n",
      " 2   Pclass       1309 non-null   int64  \n",
      " 3   Name         1309 non-null   object \n",
      " 4   Sex          1309 non-null   object \n",
      " 5   Age          1309 non-null   float64\n",
      " 6   SibSp        1309 non-null   int64  \n",
      " 7   Parch        1309 non-null   int64  \n",
      " 8   Ticket       1309 non-null   object \n",
      " 9   Fare         1309 non-null   float64\n",
      " 10  Embarked     1309 non-null   object \n",
      " 11  Title        1309 non-null   object \n",
      "dtypes: float64(3), int64(4), object(5)\n",
      "memory usage: 122.8+ KB\n"
     ]
    }
   ],
   "source": [
    "data.info()"
   ]
  },
  {
   "cell_type": "code",
   "execution_count": 33,
   "id": "92e06647",
   "metadata": {
    "execution": {
     "iopub.execute_input": "2024-06-13T17:14:39.861095Z",
     "iopub.status.busy": "2024-06-13T17:14:39.860201Z",
     "iopub.status.idle": "2024-06-13T17:14:39.867844Z",
     "shell.execute_reply": "2024-06-13T17:14:39.866698Z"
    },
    "papermill": {
     "duration": 0.03565,
     "end_time": "2024-06-13T17:14:39.870526",
     "exception": false,
     "start_time": "2024-06-13T17:14:39.834876",
     "status": "completed"
    },
    "tags": []
   },
   "outputs": [
    {
     "name": "stdout",
     "output_type": "stream",
     "text": [
      "category\n"
     ]
    }
   ],
   "source": [
    "# \"Pclass\" sütununu kategorik veri türüne dönüştürme\n",
    "data['Pclass'] = data['Pclass'].astype('category')\n",
    "\n",
    "# Dönüşümün başarılı olup olmadığını kontrol etme\n",
    "print(data['Pclass'].dtype)"
   ]
  },
  {
   "cell_type": "code",
   "execution_count": 34,
   "id": "fc2d5e4c",
   "metadata": {
    "execution": {
     "iopub.execute_input": "2024-06-13T17:14:39.921122Z",
     "iopub.status.busy": "2024-06-13T17:14:39.920705Z",
     "iopub.status.idle": "2024-06-13T17:14:39.936419Z",
     "shell.execute_reply": "2024-06-13T17:14:39.935066Z"
    },
    "papermill": {
     "duration": 0.044365,
     "end_time": "2024-06-13T17:14:39.939050",
     "exception": false,
     "start_time": "2024-06-13T17:14:39.894685",
     "status": "completed"
    },
    "tags": []
   },
   "outputs": [
    {
     "name": "stdout",
     "output_type": "stream",
     "text": [
      "<class 'pandas.core.frame.DataFrame'>\n",
      "RangeIndex: 1309 entries, 0 to 1308\n",
      "Data columns (total 12 columns):\n",
      " #   Column       Non-Null Count  Dtype   \n",
      "---  ------       --------------  -----   \n",
      " 0   PassengerId  1309 non-null   int64   \n",
      " 1   Survived     891 non-null    float64 \n",
      " 2   Pclass       1309 non-null   category\n",
      " 3   Name         1309 non-null   object  \n",
      " 4   Sex          1309 non-null   object  \n",
      " 5   Age          1309 non-null   float64 \n",
      " 6   SibSp        1309 non-null   int64   \n",
      " 7   Parch        1309 non-null   int64   \n",
      " 8   Ticket       1309 non-null   object  \n",
      " 9   Fare         1309 non-null   float64 \n",
      " 10  Embarked     1309 non-null   object  \n",
      " 11  Title        1309 non-null   object  \n",
      "dtypes: category(1), float64(3), int64(3), object(5)\n",
      "memory usage: 114.0+ KB\n"
     ]
    }
   ],
   "source": [
    "data.info()"
   ]
  },
  {
   "cell_type": "code",
   "execution_count": 35,
   "id": "574a3ac0",
   "metadata": {
    "execution": {
     "iopub.execute_input": "2024-06-13T17:14:39.990048Z",
     "iopub.status.busy": "2024-06-13T17:14:39.989578Z",
     "iopub.status.idle": "2024-06-13T17:14:39.998905Z",
     "shell.execute_reply": "2024-06-13T17:14:39.997789Z"
    },
    "papermill": {
     "duration": 0.03779,
     "end_time": "2024-06-13T17:14:40.001589",
     "exception": false,
     "start_time": "2024-06-13T17:14:39.963799",
     "status": "completed"
    },
    "tags": []
   },
   "outputs": [
    {
     "data": {
      "text/plain": [
       "Sex\n",
       "male      843\n",
       "female    466\n",
       "Name: count, dtype: int64"
      ]
     },
     "execution_count": 35,
     "metadata": {},
     "output_type": "execute_result"
    }
   ],
   "source": [
    "data['Sex'].value_counts()"
   ]
  },
  {
   "cell_type": "code",
   "execution_count": 36,
   "id": "f74fc5bd",
   "metadata": {
    "execution": {
     "iopub.execute_input": "2024-06-13T17:14:40.054495Z",
     "iopub.status.busy": "2024-06-13T17:14:40.053623Z",
     "iopub.status.idle": "2024-06-13T17:14:40.064018Z",
     "shell.execute_reply": "2024-06-13T17:14:40.062884Z"
    },
    "papermill": {
     "duration": 0.039156,
     "end_time": "2024-06-13T17:14:40.066421",
     "exception": false,
     "start_time": "2024-06-13T17:14:40.027265",
     "status": "completed"
    },
    "tags": []
   },
   "outputs": [
    {
     "data": {
      "text/plain": [
       "Pclass\n",
       "3    709\n",
       "1    323\n",
       "2    277\n",
       "Name: count, dtype: int64"
      ]
     },
     "execution_count": 36,
     "metadata": {},
     "output_type": "execute_result"
    }
   ],
   "source": [
    "data['Pclass'].value_counts()"
   ]
  },
  {
   "cell_type": "code",
   "execution_count": 37,
   "id": "36d54ebb",
   "metadata": {
    "execution": {
     "iopub.execute_input": "2024-06-13T17:14:40.118095Z",
     "iopub.status.busy": "2024-06-13T17:14:40.117712Z",
     "iopub.status.idle": "2024-06-13T17:14:40.126476Z",
     "shell.execute_reply": "2024-06-13T17:14:40.125390Z"
    },
    "papermill": {
     "duration": 0.038436,
     "end_time": "2024-06-13T17:14:40.129187",
     "exception": false,
     "start_time": "2024-06-13T17:14:40.090751",
     "status": "completed"
    },
    "tags": []
   },
   "outputs": [],
   "source": [
    "# Pclass sütununu One-Hot encoding yapma, 2 sütunla temsil etme\n",
    "pclass_one_hot = pd.get_dummies(data['Pclass'], prefix='Pclass', drop_first=True)\n",
    "\n",
    "# Oluşan One-Hot encoding verilerini orijinal veri setine eklemek\n",
    "data = pd.concat([data, pclass_one_hot], axis=1)\n"
   ]
  },
  {
   "cell_type": "code",
   "execution_count": 38,
   "id": "9b9d37e8",
   "metadata": {
    "execution": {
     "iopub.execute_input": "2024-06-13T17:14:40.180369Z",
     "iopub.status.busy": "2024-06-13T17:14:40.179921Z",
     "iopub.status.idle": "2024-06-13T17:14:40.189346Z",
     "shell.execute_reply": "2024-06-13T17:14:40.188199Z"
    },
    "papermill": {
     "duration": 0.03844,
     "end_time": "2024-06-13T17:14:40.192285",
     "exception": false,
     "start_time": "2024-06-13T17:14:40.153845",
     "status": "completed"
    },
    "tags": []
   },
   "outputs": [],
   "source": [
    "# Sex sütununu One-Hot encoding yapma, sadece 'male' olanlar için 1 yapma\n",
    "sex_one_hot = pd.get_dummies(data['Sex'], prefix='Sex', drop_first=True)\n",
    "\n",
    "# Oluşan One-Hot encoding verilerini orijinal veri setine eklemek\n",
    "data = pd.concat([data, sex_one_hot], axis=1)"
   ]
  },
  {
   "cell_type": "code",
   "execution_count": 39,
   "id": "d2a28910",
   "metadata": {
    "execution": {
     "iopub.execute_input": "2024-06-13T17:14:40.246994Z",
     "iopub.status.busy": "2024-06-13T17:14:40.246572Z",
     "iopub.status.idle": "2024-06-13T17:14:40.255585Z",
     "shell.execute_reply": "2024-06-13T17:14:40.254462Z"
    },
    "papermill": {
     "duration": 0.040141,
     "end_time": "2024-06-13T17:14:40.258384",
     "exception": false,
     "start_time": "2024-06-13T17:14:40.218243",
     "status": "completed"
    },
    "tags": []
   },
   "outputs": [],
   "source": [
    "# Pclass sütununu One-Hot encoding yapma, 2 sütunla temsil etme\n",
    "Embarked_one_hot = pd.get_dummies(data['Embarked'], prefix='Embarked', drop_first=True)\n",
    "\n",
    "# Oluşan One-Hot encoding verilerini orijinal veri setine eklemek\n",
    "data = pd.concat([data, Embarked_one_hot], axis=1)\n"
   ]
  },
  {
   "cell_type": "code",
   "execution_count": 40,
   "id": "bbe7f18a",
   "metadata": {
    "execution": {
     "iopub.execute_input": "2024-06-13T17:14:40.310178Z",
     "iopub.status.busy": "2024-06-13T17:14:40.309762Z",
     "iopub.status.idle": "2024-06-13T17:14:40.317968Z",
     "shell.execute_reply": "2024-06-13T17:14:40.316938Z"
    },
    "papermill": {
     "duration": 0.036787,
     "end_time": "2024-06-13T17:14:40.320612",
     "exception": false,
     "start_time": "2024-06-13T17:14:40.283825",
     "status": "completed"
    },
    "tags": []
   },
   "outputs": [],
   "source": [
    "# Pclass sütununu One-Hot encoding yapma, 2 sütunla temsil etme\n",
    "Title_one_hot = pd.get_dummies(data['Title'], prefix='Title')\n",
    "\n",
    "# Oluşan One-Hot encoding verilerini orijinal veri setine eklemek\n",
    "data = pd.concat([data, Title_one_hot], axis=1)\n"
   ]
  },
  {
   "cell_type": "code",
   "execution_count": 41,
   "id": "c2141e97",
   "metadata": {
    "execution": {
     "iopub.execute_input": "2024-06-13T17:14:40.373092Z",
     "iopub.status.busy": "2024-06-13T17:14:40.372298Z",
     "iopub.status.idle": "2024-06-13T17:14:40.387957Z",
     "shell.execute_reply": "2024-06-13T17:14:40.386619Z"
    },
    "papermill": {
     "duration": 0.045197,
     "end_time": "2024-06-13T17:14:40.390505",
     "exception": false,
     "start_time": "2024-06-13T17:14:40.345308",
     "status": "completed"
    },
    "tags": []
   },
   "outputs": [
    {
     "name": "stdout",
     "output_type": "stream",
     "text": [
      "<class 'pandas.core.frame.DataFrame'>\n",
      "RangeIndex: 1309 entries, 0 to 1308\n",
      "Data columns (total 21 columns):\n",
      " #   Column        Non-Null Count  Dtype   \n",
      "---  ------        --------------  -----   \n",
      " 0   PassengerId   1309 non-null   int64   \n",
      " 1   Survived      891 non-null    float64 \n",
      " 2   Pclass        1309 non-null   category\n",
      " 3   Name          1309 non-null   object  \n",
      " 4   Sex           1309 non-null   object  \n",
      " 5   Age           1309 non-null   float64 \n",
      " 6   SibSp         1309 non-null   int64   \n",
      " 7   Parch         1309 non-null   int64   \n",
      " 8   Ticket        1309 non-null   object  \n",
      " 9   Fare          1309 non-null   float64 \n",
      " 10  Embarked      1309 non-null   object  \n",
      " 11  Title         1309 non-null   object  \n",
      " 12  Pclass_2      1309 non-null   bool    \n",
      " 13  Pclass_3      1309 non-null   bool    \n",
      " 14  Sex_male      1309 non-null   bool    \n",
      " 15  Embarked_Q    1309 non-null   bool    \n",
      " 16  Embarked_S    1309 non-null   bool    \n",
      " 17  Title_Master  1309 non-null   bool    \n",
      " 18  Title_Miss    1309 non-null   bool    \n",
      " 19  Title_Mr      1309 non-null   bool    \n",
      " 20  Title_Mrs     1309 non-null   bool    \n",
      "dtypes: bool(9), category(1), float64(3), int64(3), object(5)\n",
      "memory usage: 125.5+ KB\n"
     ]
    }
   ],
   "source": [
    "data.info()"
   ]
  },
  {
   "cell_type": "code",
   "execution_count": 42,
   "id": "58697c58",
   "metadata": {
    "execution": {
     "iopub.execute_input": "2024-06-13T17:14:40.443121Z",
     "iopub.status.busy": "2024-06-13T17:14:40.442071Z",
     "iopub.status.idle": "2024-06-13T17:14:40.448278Z",
     "shell.execute_reply": "2024-06-13T17:14:40.447196Z"
    },
    "papermill": {
     "duration": 0.03523,
     "end_time": "2024-06-13T17:14:40.450882",
     "exception": false,
     "start_time": "2024-06-13T17:14:40.415652",
     "status": "completed"
    },
    "tags": []
   },
   "outputs": [],
   "source": [
    "data_encoded = data.copy()"
   ]
  },
  {
   "cell_type": "code",
   "execution_count": 43,
   "id": "7501c93f",
   "metadata": {
    "execution": {
     "iopub.execute_input": "2024-06-13T17:14:40.501977Z",
     "iopub.status.busy": "2024-06-13T17:14:40.501576Z",
     "iopub.status.idle": "2024-06-13T17:14:40.508532Z",
     "shell.execute_reply": "2024-06-13T17:14:40.507456Z"
    },
    "papermill": {
     "duration": 0.035581,
     "end_time": "2024-06-13T17:14:40.511077",
     "exception": false,
     "start_time": "2024-06-13T17:14:40.475496",
     "status": "completed"
    },
    "tags": []
   },
   "outputs": [],
   "source": [
    "columns_to_drop = ['PassengerId', 'Pclass', 'Name', 'Sex', 'Ticket', 'Embarked', 'Title']\n",
    "data_encoded.drop(columns=columns_to_drop, inplace=True, errors='ignore')"
   ]
  },
  {
   "cell_type": "code",
   "execution_count": 44,
   "id": "82c8fa59",
   "metadata": {
    "execution": {
     "iopub.execute_input": "2024-06-13T17:14:40.561852Z",
     "iopub.status.busy": "2024-06-13T17:14:40.561462Z",
     "iopub.status.idle": "2024-06-13T17:14:40.574652Z",
     "shell.execute_reply": "2024-06-13T17:14:40.573385Z"
    },
    "papermill": {
     "duration": 0.041296,
     "end_time": "2024-06-13T17:14:40.577087",
     "exception": false,
     "start_time": "2024-06-13T17:14:40.535791",
     "status": "completed"
    },
    "tags": []
   },
   "outputs": [
    {
     "name": "stdout",
     "output_type": "stream",
     "text": [
      "<class 'pandas.core.frame.DataFrame'>\n",
      "RangeIndex: 1309 entries, 0 to 1308\n",
      "Data columns (total 14 columns):\n",
      " #   Column        Non-Null Count  Dtype  \n",
      "---  ------        --------------  -----  \n",
      " 0   Survived      891 non-null    float64\n",
      " 1   Age           1309 non-null   float64\n",
      " 2   SibSp         1309 non-null   int64  \n",
      " 3   Parch         1309 non-null   int64  \n",
      " 4   Fare          1309 non-null   float64\n",
      " 5   Pclass_2      1309 non-null   bool   \n",
      " 6   Pclass_3      1309 non-null   bool   \n",
      " 7   Sex_male      1309 non-null   bool   \n",
      " 8   Embarked_Q    1309 non-null   bool   \n",
      " 9   Embarked_S    1309 non-null   bool   \n",
      " 10  Title_Master  1309 non-null   bool   \n",
      " 11  Title_Miss    1309 non-null   bool   \n",
      " 12  Title_Mr      1309 non-null   bool   \n",
      " 13  Title_Mrs     1309 non-null   bool   \n",
      "dtypes: bool(9), float64(3), int64(2)\n",
      "memory usage: 62.8 KB\n"
     ]
    }
   ],
   "source": [
    "data_encoded.info()"
   ]
  },
  {
   "cell_type": "code",
   "execution_count": 45,
   "id": "fecaed60",
   "metadata": {
    "execution": {
     "iopub.execute_input": "2024-06-13T17:14:40.628618Z",
     "iopub.status.busy": "2024-06-13T17:14:40.627602Z",
     "iopub.status.idle": "2024-06-13T17:14:40.640492Z",
     "shell.execute_reply": "2024-06-13T17:14:40.639210Z"
    },
    "papermill": {
     "duration": 0.041683,
     "end_time": "2024-06-13T17:14:40.643521",
     "exception": false,
     "start_time": "2024-06-13T17:14:40.601838",
     "status": "completed"
    },
    "tags": []
   },
   "outputs": [
    {
     "name": "stdout",
     "output_type": "stream",
     "text": [
      "<class 'pandas.core.frame.DataFrame'>\n",
      "RangeIndex: 1309 entries, 0 to 1308\n",
      "Data columns (total 14 columns):\n",
      " #   Column        Non-Null Count  Dtype  \n",
      "---  ------        --------------  -----  \n",
      " 0   Survived      891 non-null    float64\n",
      " 1   Age           1309 non-null   float64\n",
      " 2   SibSp         1309 non-null   int64  \n",
      " 3   Parch         1309 non-null   int64  \n",
      " 4   Fare          1309 non-null   float64\n",
      " 5   Pclass_2      1309 non-null   bool   \n",
      " 6   Pclass_3      1309 non-null   bool   \n",
      " 7   Sex_male      1309 non-null   bool   \n",
      " 8   Embarked_Q    1309 non-null   bool   \n",
      " 9   Embarked_S    1309 non-null   bool   \n",
      " 10  Title_Master  1309 non-null   bool   \n",
      " 11  Title_Miss    1309 non-null   bool   \n",
      " 12  Title_Mr      1309 non-null   bool   \n",
      " 13  Title_Mrs     1309 non-null   bool   \n",
      "dtypes: bool(9), float64(3), int64(2)\n",
      "memory usage: 62.8 KB\n"
     ]
    }
   ],
   "source": [
    "data_encoded = data_encoded.loc[:, ~data_encoded.columns.duplicated()]\n",
    "data_encoded.info()"
   ]
  },
  {
   "cell_type": "code",
   "execution_count": 46,
   "id": "432af314",
   "metadata": {
    "execution": {
     "iopub.execute_input": "2024-06-13T17:14:40.695508Z",
     "iopub.status.busy": "2024-06-13T17:14:40.694929Z",
     "iopub.status.idle": "2024-06-13T17:14:41.816218Z",
     "shell.execute_reply": "2024-06-13T17:14:41.814989Z"
    },
    "papermill": {
     "duration": 1.1524,
     "end_time": "2024-06-13T17:14:41.821147",
     "exception": false,
     "start_time": "2024-06-13T17:14:40.668747",
     "status": "completed"
    },
    "tags": []
   },
   "outputs": [
    {
     "data": {
      "image/png": "[encoded data removed]",
      "text/plain": [
       "<Figure size 1200x1000 with 2 Axes>"
      ]
     },
     "metadata": {},
     "output_type": "display_data"
    }
   ],
   "source": [
    "# Korelasyon matrisini oluşturma\n",
    "correlation_matrix = data_encoded.corr()\n",
    "\n",
    "# Heatmap çizdirme\n",
    "plt.figure(figsize=(12, 10))\n",
    "sns.heatmap(correlation_matrix, annot=True, cmap='coolwarm', fmt=\".2f\", annot_kws={\"size\": 10})\n",
    "plt.title('Correlation Heatmap of Titanic Dataset')\n",
    "plt.show()"
   ]
  },
  {
   "cell_type": "code",
   "execution_count": 47,
   "id": "a015eb33",
   "metadata": {
    "execution": {
     "iopub.execute_input": "2024-06-13T17:14:41.879376Z",
     "iopub.status.busy": "2024-06-13T17:14:41.878952Z",
     "iopub.status.idle": "2024-06-13T17:14:41.890805Z",
     "shell.execute_reply": "2024-06-13T17:14:41.889778Z"
    },
    "papermill": {
     "duration": 0.044607,
     "end_time": "2024-06-13T17:14:41.893542",
     "exception": false,
     "start_time": "2024-06-13T17:14:41.848935",
     "status": "completed"
    },
    "tags": []
   },
   "outputs": [],
   "source": [
    "# Fare, Parch, SibSp, Age sütunlarından polinomlar oluşturma\n",
    "for feature in ['Fare', 'Age']:\n",
    "    for degree in [2, 3]:  # Polinom derecesi 2 ve 3 olarak örnek verilmiştir\n",
    "        new_column_name = f'{feature}_poly_{degree}'\n",
    "        data_encoded[new_column_name] = np.power(data_encoded[feature], degree)\n",
    "\n",
    "# İlişkisel sütunlar oluşturma (örnek olarak Fare ve Age arasındaki etkileşim)\n",
    "data_encoded['Fare_Age_interaction'] = data_encoded['Fare'] * data_encoded['Age']\n",
    "data_encoded['SibSp_Parch_interaction'] = data_encoded['SibSp'] * data_encoded['Parch']"
   ]
  },
  {
   "cell_type": "code",
   "execution_count": 48,
   "id": "3bfd9b4b",
   "metadata": {
    "execution": {
     "iopub.execute_input": "2024-06-13T17:14:41.951029Z",
     "iopub.status.busy": "2024-06-13T17:14:41.950013Z",
     "iopub.status.idle": "2024-06-13T17:14:41.976556Z",
     "shell.execute_reply": "2024-06-13T17:14:41.975282Z"
    },
    "papermill": {
     "duration": 0.057914,
     "end_time": "2024-06-13T17:14:41.979086",
     "exception": false,
     "start_time": "2024-06-13T17:14:41.921172",
     "status": "completed"
    },
    "tags": []
   },
   "outputs": [
    {
     "data": {
      "text/html": [
       "<div>\n",
       "<style scoped>\n",
       "    .dataframe tbody tr th:only-of-type {\n",
       "        vertical-align: middle;\n",
       "    }\n",
       "\n",
       "    .dataframe tbody tr th {\n",
       "        vertical-align: top;\n",
       "    }\n",
       "\n",
       "    .dataframe thead th {\n",
       "        text-align: right;\n",
       "    }\n",
       "</style>\n",
       "<table border=\"1\" class=\"dataframe\">\n",
       "  <thead>\n",
       "    <tr style=\"text-align: right;\">\n",
       "      <th></th>\n",
       "      <th>Age</th>\n",
       "      <th>SibSp</th>\n",
       "      <th>Parch</th>\n",
       "      <th>Fare</th>\n",
       "      <th>Pclass_2</th>\n",
       "      <th>Pclass_3</th>\n",
       "      <th>Sex_male</th>\n",
       "      <th>Embarked_Q</th>\n",
       "      <th>Embarked_S</th>\n",
       "      <th>Title_Master</th>\n",
       "      <th>Title_Miss</th>\n",
       "      <th>Title_Mr</th>\n",
       "      <th>Title_Mrs</th>\n",
       "      <th>Fare_poly_2</th>\n",
       "      <th>Fare_poly_3</th>\n",
       "      <th>Age_poly_2</th>\n",
       "      <th>Age_poly_3</th>\n",
       "      <th>Fare_Age_interaction</th>\n",
       "      <th>SibSp_Parch_interaction</th>\n",
       "    </tr>\n",
       "  </thead>\n",
       "  <tbody>\n",
       "    <tr>\n",
       "      <th>0</th>\n",
       "      <td>22.0</td>\n",
       "      <td>1</td>\n",
       "      <td>0</td>\n",
       "      <td>7.2500</td>\n",
       "      <td>False</td>\n",
       "      <td>True</td>\n",
       "      <td>True</td>\n",
       "      <td>False</td>\n",
       "      <td>True</td>\n",
       "      <td>False</td>\n",
       "      <td>False</td>\n",
       "      <td>True</td>\n",
       "      <td>False</td>\n",
       "      <td>52.562500</td>\n",
       "      <td>381.078125</td>\n",
       "      <td>484.0</td>\n",
       "      <td>10648.0</td>\n",
       "      <td>159.5000</td>\n",
       "      <td>0</td>\n",
       "    </tr>\n",
       "    <tr>\n",
       "      <th>1</th>\n",
       "      <td>38.0</td>\n",
       "      <td>1</td>\n",
       "      <td>0</td>\n",
       "      <td>71.2833</td>\n",
       "      <td>False</td>\n",
       "      <td>False</td>\n",
       "      <td>False</td>\n",
       "      <td>False</td>\n",
       "      <td>False</td>\n",
       "      <td>False</td>\n",
       "      <td>False</td>\n",
       "      <td>False</td>\n",
       "      <td>True</td>\n",
       "      <td>5081.308859</td>\n",
       "      <td>362212.463781</td>\n",
       "      <td>1444.0</td>\n",
       "      <td>54872.0</td>\n",
       "      <td>2708.7654</td>\n",
       "      <td>0</td>\n",
       "    </tr>\n",
       "    <tr>\n",
       "      <th>2</th>\n",
       "      <td>26.0</td>\n",
       "      <td>0</td>\n",
       "      <td>0</td>\n",
       "      <td>7.9250</td>\n",
       "      <td>False</td>\n",
       "      <td>True</td>\n",
       "      <td>False</td>\n",
       "      <td>False</td>\n",
       "      <td>True</td>\n",
       "      <td>False</td>\n",
       "      <td>True</td>\n",
       "      <td>False</td>\n",
       "      <td>False</td>\n",
       "      <td>62.805625</td>\n",
       "      <td>497.734578</td>\n",
       "      <td>676.0</td>\n",
       "      <td>17576.0</td>\n",
       "      <td>206.0500</td>\n",
       "      <td>0</td>\n",
       "    </tr>\n",
       "    <tr>\n",
       "      <th>3</th>\n",
       "      <td>35.0</td>\n",
       "      <td>1</td>\n",
       "      <td>0</td>\n",
       "      <td>53.1000</td>\n",
       "      <td>False</td>\n",
       "      <td>False</td>\n",
       "      <td>False</td>\n",
       "      <td>False</td>\n",
       "      <td>True</td>\n",
       "      <td>False</td>\n",
       "      <td>False</td>\n",
       "      <td>False</td>\n",
       "      <td>True</td>\n",
       "      <td>2819.610000</td>\n",
       "      <td>149721.291000</td>\n",
       "      <td>1225.0</td>\n",
       "      <td>42875.0</td>\n",
       "      <td>1858.5000</td>\n",
       "      <td>0</td>\n",
       "    </tr>\n",
       "    <tr>\n",
       "      <th>4</th>\n",
       "      <td>35.0</td>\n",
       "      <td>0</td>\n",
       "      <td>0</td>\n",
       "      <td>8.0500</td>\n",
       "      <td>False</td>\n",
       "      <td>True</td>\n",
       "      <td>True</td>\n",
       "      <td>False</td>\n",
       "      <td>True</td>\n",
       "      <td>False</td>\n",
       "      <td>False</td>\n",
       "      <td>True</td>\n",
       "      <td>False</td>\n",
       "      <td>64.802500</td>\n",
       "      <td>521.660125</td>\n",
       "      <td>1225.0</td>\n",
       "      <td>42875.0</td>\n",
       "      <td>281.7500</td>\n",
       "      <td>0</td>\n",
       "    </tr>\n",
       "  </tbody>\n",
       "</table>\n",
       "</div>"
      ],
      "text/plain": [
       "    Age  SibSp  Parch     Fare  Pclass_2  Pclass_3  Sex_male  Embarked_Q  \\\n",
       "0  22.0      1      0   7.2500     False      True      True       False   \n",
       "1  38.0      1      0  71.2833     False     False     False       False   \n",
       "2  26.0      0      0   7.9250     False      True     False       False   \n",
       "3  35.0      1      0  53.1000     False     False     False       False   \n",
       "4  35.0      0      0   8.0500     False      True      True       False   \n",
       "\n",
       "   Embarked_S  Title_Master  Title_Miss  Title_Mr  Title_Mrs  Fare_poly_2  \\\n",
       "0        True         False       False      True      False    52.562500   \n",
       "1       False         False       False     False       True  5081.308859   \n",
       "2        True         False        True     False      False    62.805625   \n",
       "3        True         False       False     False       True  2819.610000   \n",
       "4        True         False       False      True      False    64.802500   \n",
       "\n",
       "     Fare_poly_3  Age_poly_2  Age_poly_3  Fare_Age_interaction  \\\n",
       "0     381.078125       484.0     10648.0              159.5000   \n",
       "1  362212.463781      1444.0     54872.0             2708.7654   \n",
       "2     497.734578       676.0     17576.0              206.0500   \n",
       "3  149721.291000      1225.0     42875.0             1858.5000   \n",
       "4     521.660125      1225.0     42875.0              281.7500   \n",
       "\n",
       "   SibSp_Parch_interaction  \n",
       "0                        0  \n",
       "1                        0  \n",
       "2                        0  \n",
       "3                        0  \n",
       "4                        0  "
      ]
     },
     "execution_count": 48,
     "metadata": {},
     "output_type": "execute_result"
    }
   ],
   "source": [
    "y = data_encoded['Survived']\n",
    "X = data_encoded.drop(columns=['Survived'])  # Survived dışındaki tüm sütunlar\n",
    "X.head()"
   ]
  },
  {
   "cell_type": "code",
   "execution_count": 49,
   "id": "4aac00f1",
   "metadata": {
    "execution": {
     "iopub.execute_input": "2024-06-13T17:14:42.038323Z",
     "iopub.status.busy": "2024-06-13T17:14:42.037905Z",
     "iopub.status.idle": "2024-06-13T17:14:42.047341Z",
     "shell.execute_reply": "2024-06-13T17:14:42.046217Z"
    },
    "papermill": {
     "duration": 0.041947,
     "end_time": "2024-06-13T17:14:42.049872",
     "exception": false,
     "start_time": "2024-06-13T17:14:42.007925",
     "status": "completed"
    },
    "tags": []
   },
   "outputs": [
    {
     "data": {
      "text/plain": [
       "0       0.0\n",
       "1       1.0\n",
       "2       1.0\n",
       "3       1.0\n",
       "4       0.0\n",
       "       ... \n",
       "1304    NaN\n",
       "1305    NaN\n",
       "1306    NaN\n",
       "1307    NaN\n",
       "1308    NaN\n",
       "Name: Survived, Length: 1309, dtype: float64"
      ]
     },
     "execution_count": 49,
     "metadata": {},
     "output_type": "execute_result"
    }
   ],
   "source": [
    "y"
   ]
  },
  {
   "cell_type": "code",
   "execution_count": 50,
   "id": "c7bfa869",
   "metadata": {
    "execution": {
     "iopub.execute_input": "2024-06-13T17:14:42.110182Z",
     "iopub.status.busy": "2024-06-13T17:14:42.109695Z",
     "iopub.status.idle": "2024-06-13T17:14:42.118537Z",
     "shell.execute_reply": "2024-06-13T17:14:42.115963Z"
    },
    "papermill": {
     "duration": 0.043983,
     "end_time": "2024-06-13T17:14:42.122233",
     "exception": false,
     "start_time": "2024-06-13T17:14:42.078250",
     "status": "completed"
    },
    "tags": []
   },
   "outputs": [],
   "source": [
    "#Train ve testi aşağıdaki gibi ayırıyoruz\n",
    "X_train=X[:891] #Train veri setinde ilk 891\n",
    "X_test=X[891:]\n",
    "y_train=y[:891]\n",
    "y_test=y[891:]"
   ]
  },
  {
   "cell_type": "code",
   "execution_count": 51,
   "id": "8109c130",
   "metadata": {
    "execution": {
     "iopub.execute_input": "2024-06-13T17:14:42.191569Z",
     "iopub.status.busy": "2024-06-13T17:14:42.190628Z",
     "iopub.status.idle": "2024-06-13T17:14:44.959290Z",
     "shell.execute_reply": "2024-06-13T17:14:44.958195Z"
    },
    "papermill": {
     "duration": 2.808713,
     "end_time": "2024-06-13T17:14:44.965507",
     "exception": false,
     "start_time": "2024-06-13T17:14:42.156794",
     "status": "completed"
    },
    "tags": []
   },
   "outputs": [
    {
     "data": {
      "image/png": "[encoded data removed]",
      "text/plain": [
       "<Figure size 1200x950 with 3 Axes>"
      ]
     },
     "metadata": {},
     "output_type": "display_data"
    },
    {
     "name": "stdout",
     "output_type": "stream",
     "text": [
      "                   features  rf_importance  dt_importance  gb_importance\n",
      "0                       Age       0.044140       0.043323       0.017716\n",
      "1                     SibSp       0.020537       0.012899       0.008009\n",
      "2                     Parch       0.014601       0.008494       0.007252\n",
      "3                      Fare       0.058183       0.049332       0.030406\n",
      "4                  Pclass_2       0.008068       0.007879       0.006470\n",
      "5                  Pclass_3       0.096002       0.101895       0.129013\n",
      "6                  Sex_male       0.034077       0.005278       0.005894\n",
      "7                Embarked_Q       0.003176       0.000000       0.000992\n",
      "8                Embarked_S       0.011000       0.005962       0.003794\n",
      "9              Title_Master       0.000568       0.000000       0.002860\n",
      "10               Title_Miss       0.003105       0.003709       0.006457\n",
      "11                 Title_Mr       0.297317       0.333150       0.489475\n",
      "12                Title_Mrs       0.002883       0.004113       0.003689\n",
      "13              Fare_poly_2       0.065954       0.145776       0.069233\n",
      "14              Fare_poly_3       0.062491       0.046574       0.041406\n",
      "15               Age_poly_2       0.048867       0.038863       0.019447\n",
      "16               Age_poly_3       0.047099       0.040050       0.010853\n",
      "17     Fare_Age_interaction       0.159821       0.138080       0.100394\n",
      "18  SibSp_Parch_interaction       0.022114       0.014622       0.046638\n"
     ]
    }
   ],
   "source": [
    "from sklearn.ensemble import RandomForestRegressor, GradientBoostingRegressor\n",
    "from sklearn.tree import DecisionTreeRegressor\n",
    "\n",
    "\n",
    "# RandomForestRegressor modelini oluşturma ve eğitme\n",
    "rf_model = RandomForestRegressor()\n",
    "rf_model.fit(X_train, y_train)\n",
    "\n",
    "# DecisionTreeRegressor modelini oluşturma ve eğitme\n",
    "dt_model = DecisionTreeRegressor()\n",
    "dt_model.fit(X_train, y_train)\n",
    "\n",
    "# GradientBoostingRegressor modelini oluşturma ve eğitme\n",
    "gb_model = GradientBoostingRegressor()\n",
    "gb_model.fit(X_train, y_train)\n",
    "\n",
    "# Özellik önemlerini belirleme\n",
    "rf_feature_importances = pd.Series(rf_model.feature_importances_, index=X.columns).sort_values(ascending=True)\n",
    "dt_feature_importances = pd.Series(dt_model.feature_importances_, index=X.columns).sort_values(ascending=True)\n",
    "gb_feature_importances = pd.Series(gb_model.feature_importances_, index=X.columns).sort_values(ascending=True)\n",
    "\n",
    "# Grafik yüksekliğini ayarlama\n",
    "num_features = len(rf_feature_importances)\n",
    "fig_height = max(6, num_features * 0.5)\n",
    "\n",
    "# Grafik oluşturma\n",
    "plt.figure(figsize=(12, fig_height))\n",
    "\n",
    "# RandomForestRegressor özellik önemleri\n",
    "plt.subplot(3, 1, 1)\n",
    "rf_feature_importances.plot(kind='barh')\n",
    "plt.title('Random Forest Özellik Önem Düzeyleri')\n",
    "plt.xlabel('Önem Düzeyi')\n",
    "plt.ylabel('Özellikler')\n",
    "\n",
    "# DecisionTreeRegressor özellik önemleri\n",
    "plt.subplot(3, 1, 2)\n",
    "dt_feature_importances.plot(kind='barh')\n",
    "plt.title('Decision Tree Özellik Önem Düzeyleri')\n",
    "plt.xlabel('Önem Düzeyi')\n",
    "plt.ylabel('Özellikler')\n",
    "\n",
    "# GradientBoostingRegressor özellik önemleri\n",
    "plt.subplot(3, 1, 3)\n",
    "gb_feature_importances.plot(kind='barh')\n",
    "plt.title('Gradient Boosting Özellik Önem Düzeyleri')\n",
    "plt.xlabel('Önem Düzeyi')\n",
    "plt.ylabel('Özellikler')\n",
    "\n",
    "# Barların üstüne değerlerini yazma\n",
    "for ax in plt.gcf().axes:\n",
    "    for container in ax.containers:\n",
    "        ax.bar_label(container, label_type='edge')\n",
    "\n",
    "plt.tight_layout()\n",
    "\n",
    "\n",
    "# Excel'e yazdırma\n",
    "feature_importances_df = pd.DataFrame({\n",
    "    'features': X.columns,\n",
    "    'rf_importance': rf_feature_importances[X.columns].values,\n",
    "    'dt_importance': dt_feature_importances[X.columns].values,\n",
    "    'gb_importance': gb_feature_importances[X.columns].values\n",
    "})\n",
    "\n",
    "\n",
    "\n",
    "plt.show()\n",
    "\n",
    "print(feature_importances_df)"
   ]
  },
  {
   "cell_type": "markdown",
   "id": "84e4acc4",
   "metadata": {
    "papermill": {
     "duration": 0.032927,
     "end_time": "2024-06-13T17:14:45.030292",
     "exception": false,
     "start_time": "2024-06-13T17:14:44.997365",
     "status": "completed"
    },
    "tags": []
   },
   "source": [
    "**Libraries**"
   ]
  },
  {
   "cell_type": "code",
   "execution_count": 52,
   "id": "d2cbae58",
   "metadata": {
    "execution": {
     "iopub.execute_input": "2024-06-13T17:14:45.097482Z",
     "iopub.status.busy": "2024-06-13T17:14:45.096913Z",
     "iopub.status.idle": "2024-06-13T17:14:46.905881Z",
     "shell.execute_reply": "2024-06-13T17:14:46.904648Z"
    },
    "papermill": {
     "duration": 1.8459,
     "end_time": "2024-06-13T17:14:46.908773",
     "exception": false,
     "start_time": "2024-06-13T17:14:45.062873",
     "status": "completed"
    },
    "tags": []
   },
   "outputs": [],
   "source": [
    "from sklearn.metrics import mean_squared_error, r2_score, mean_absolute_error,  accuracy_score, confusion_matrix\n",
    "from sklearn.model_selection import cross_val_score, GridSearchCV\n",
    "from sklearn.metrics import accuracy_score, precision_score, recall_score, f1_score\n",
    "from sklearn.model_selection import train_test_split\n",
    "\n",
    "from sklearn.linear_model import LogisticRegression\n",
    "from sklearn.naive_bayes import GaussianNB, BernoulliNB, MultinomialNB\n",
    "from sklearn.svm import SVC\n",
    "from sklearn.neighbors import KNeighborsClassifier\n",
    "from sklearn.tree import DecisionTreeClassifier\n",
    "from sklearn.ensemble import RandomForestClassifier\n",
    "from xgboost import XGBClassifier \n",
    "from sklearn.ensemble import GradientBoostingClassifier\n",
    "from sklearn.ensemble import AdaBoostClassifier\n",
    "from sklearn.ensemble import ExtraTreesClassifier\n",
    "from sklearn.ensemble import BaggingClassifier\n",
    "from sklearn.discriminant_analysis import QuadraticDiscriminantAnalysis\n",
    "from sklearn.discriminant_analysis import LinearDiscriminantAnalysis\n",
    "from lightgbm import LGBMClassifier\n",
    "from catboost import CatBoostClassifier\n",
    "from sklearn.neural_network import MLPClassifier\n",
    "import warnings\n",
    "\n",
    "from sklearn.exceptions import ConvergenceWarning"
   ]
  },
  {
   "cell_type": "code",
   "execution_count": 53,
   "id": "75fd2ae7",
   "metadata": {
    "execution": {
     "iopub.execute_input": "2024-06-13T17:14:46.976452Z",
     "iopub.status.busy": "2024-06-13T17:14:46.975746Z",
     "iopub.status.idle": "2024-06-13T17:16:04.540512Z",
     "shell.execute_reply": "2024-06-13T17:16:04.538941Z"
    },
    "papermill": {
     "duration": 77.608031,
     "end_time": "2024-06-13T17:16:04.549651",
     "exception": false,
     "start_time": "2024-06-13T17:14:46.941620",
     "status": "completed"
    },
    "tags": []
   },
   "outputs": [
    {
     "name": "stdout",
     "output_type": "stream",
     "text": [
      "Training LogisticRegression\n",
      "Training DecisionTree\n",
      "Training RandomForest\n",
      "Training GradientBoosting\n",
      "Training AdaBoost\n",
      "Training ExtraTrees\n",
      "Training Bagging\n",
      "Training KNeighbors\n",
      "Training QDA\n",
      "Training LDA\n",
      "Training XGB\n",
      "Training LGBM\n",
      "Training CatBoost\n",
      "Training GaussianNB\n",
      "Training BernoulliNB\n",
      "Training MultinomialNB\n",
      "Training MLP\n",
      "Model: LogisticRegression\n",
      "Best Params: {'C': 0.1}\n",
      "Accuracy: 0.6604477611940298\n",
      "Precision: 0.6771204202255467\n",
      "Recall: 0.6604477611940298\n",
      "F1 Score: 0.6192755614228406\n",
      "Confusion Matrix:\n",
      "[[144  13]\n",
      " [ 78  33]]\n",
      "\n",
      "\n",
      "Model: DecisionTree\n",
      "Best Params: {'max_depth': 5}\n",
      "Accuracy: 0.8134328358208955\n",
      "Precision: 0.8170295031652359\n",
      "Recall: 0.8134328358208955\n",
      "F1 Score: 0.8092794953802417\n",
      "Confusion Matrix:\n",
      "[[143  14]\n",
      " [ 36  75]]\n",
      "\n",
      "\n",
      "Model: RandomForest\n",
      "Best Params: {'max_depth': 5, 'n_estimators': 50}\n",
      "Accuracy: 0.8246268656716418\n",
      "Precision: 0.8282757560512046\n",
      "Recall: 0.8246268656716418\n",
      "F1 Score: 0.8209623524170194\n",
      "Confusion Matrix:\n",
      "[[144  13]\n",
      " [ 34  77]]\n",
      "\n",
      "\n",
      "Model: GradientBoosting\n",
      "Best Params: {'learning_rate': 0.01, 'n_estimators': 100}\n",
      "Accuracy: 0.8246268656716418\n",
      "Precision: 0.8348574789310724\n",
      "Recall: 0.8246268656716418\n",
      "F1 Score: 0.8188648969536223\n",
      "Confusion Matrix:\n",
      "[[148   9]\n",
      " [ 38  73]]\n",
      "\n",
      "\n",
      "Model: AdaBoost\n",
      "Best Params: {'n_estimators': 200}\n",
      "Accuracy: 0.8208955223880597\n",
      "Precision: 0.8204942054484372\n",
      "Recall: 0.8208955223880597\n",
      "F1 Score: 0.8206481974477441\n",
      "Confusion Matrix:\n",
      "[[134  23]\n",
      " [ 25  86]]\n",
      "\n",
      "\n",
      "Model: ExtraTrees\n",
      "Best Params: {'max_depth': 5, 'n_estimators': 100}\n",
      "Accuracy: 0.8134328358208955\n",
      "Precision: 0.8198817868228769\n",
      "Recall: 0.8134328358208955\n",
      "F1 Score: 0.808191933489814\n",
      "Confusion Matrix:\n",
      "[[145  12]\n",
      " [ 38  73]]\n",
      "\n",
      "\n",
      "Model: Bagging\n",
      "Best Params: {'n_estimators': 100}\n",
      "Accuracy: 0.8059701492537313\n",
      "Precision: 0.8051383563595435\n",
      "Recall: 0.8059701492537313\n",
      "F1 Score: 0.8043882613487421\n",
      "Confusion Matrix:\n",
      "[[136  21]\n",
      " [ 31  80]]\n",
      "\n",
      "\n",
      "Model: KNeighbors\n",
      "Best Params: {'n_neighbors': 7}\n",
      "Accuracy: 0.7388059701492538\n",
      "Precision: 0.7436884050543503\n",
      "Recall: 0.7388059701492538\n",
      "F1 Score: 0.7279468395367258\n",
      "Confusion Matrix:\n",
      "[[139  18]\n",
      " [ 52  59]]\n",
      "\n",
      "\n",
      "Model: QDA\n",
      "Best Params: {}\n",
      "Accuracy: 0.6305970149253731\n",
      "Precision: 0.7111985116584215\n",
      "Recall: 0.6305970149253731\n",
      "F1 Score: 0.6213877521757916\n",
      "Confusion Matrix:\n",
      "[[72 85]\n",
      " [14 97]]\n",
      "\n",
      "\n",
      "Model: LDA\n",
      "Best Params: {}\n",
      "Accuracy: 0.8246268656716418\n",
      "Precision: 0.8243239161336176\n",
      "Recall: 0.8246268656716418\n",
      "F1 Score: 0.8230233810894487\n",
      "Confusion Matrix:\n",
      "[[139  18]\n",
      " [ 29  82]]\n",
      "\n",
      "\n",
      "Model: XGB\n",
      "Best Params: {'learning_rate': 0.01, 'n_estimators': 200}\n",
      "Accuracy: 0.8208955223880597\n",
      "Precision: 0.8227278354769929\n",
      "Recall: 0.8208955223880597\n",
      "F1 Score: 0.8178490961210954\n",
      "Confusion Matrix:\n",
      "[[142  15]\n",
      " [ 33  78]]\n",
      "\n",
      "\n",
      "Model: LGBM\n",
      "Best Params: {'learning_rate': 0.01, 'n_estimators': 100}\n",
      "Accuracy: 0.8171641791044776\n",
      "Precision: 0.8231121100350535\n",
      "Recall: 0.8171641791044776\n",
      "F1 Score: 0.8123046552422738\n",
      "Confusion Matrix:\n",
      "[[145  12]\n",
      " [ 37  74]]\n",
      "\n",
      "\n",
      "Model: CatBoost\n",
      "Best Params: {'iterations': 50, 'learning_rate': 0.1}\n",
      "Accuracy: 0.8134328358208955\n",
      "Precision: 0.8170295031652359\n",
      "Recall: 0.8134328358208955\n",
      "F1 Score: 0.8092794953802417\n",
      "Confusion Matrix:\n",
      "[[143  14]\n",
      " [ 36  75]]\n",
      "\n",
      "\n",
      "Model: GaussianNB\n",
      "Best Params: {}\n",
      "Accuracy: 0.6119402985074627\n",
      "Precision: 0.6471217850284552\n",
      "Recall: 0.6119402985074627\n",
      "F1 Score: 0.5141525826748611\n",
      "Confusion Matrix:\n",
      "[[152   5]\n",
      " [ 99  12]]\n",
      "\n",
      "\n",
      "Model: BernoulliNB\n",
      "Best Params: {'alpha': 0.01}\n",
      "Accuracy: 0.7947761194029851\n",
      "Precision: 0.7941101782752902\n",
      "Recall: 0.7947761194029851\n",
      "F1 Score: 0.7943415673028488\n",
      "Confusion Matrix:\n",
      "[[131  26]\n",
      " [ 29  82]]\n",
      "\n",
      "\n",
      "Model: MultinomialNB\n",
      "Best Params: {'alpha': 0.01}\n",
      "Accuracy: 0.6417910447761194\n",
      "Precision: 0.6576740081921597\n",
      "Recall: 0.6417910447761194\n",
      "F1 Score: 0.5892289846106257\n",
      "Confusion Matrix:\n",
      "[[145  12]\n",
      " [ 84  27]]\n",
      "\n",
      "\n",
      "Model: MLP\n",
      "Best Params: {'activation': 'tanh', 'hidden_layer_sizes': (100,)}\n",
      "Accuracy: 0.6865671641791045\n",
      "Precision: 0.6884846034194333\n",
      "Recall: 0.6865671641791045\n",
      "F1 Score: 0.6684890155961764\n",
      "Confusion Matrix:\n",
      "[[136  21]\n",
      " [ 63  48]]\n",
      "\n",
      "\n"
     ]
    }
   ],
   "source": [
    "\n",
    "\n",
    "# Ignore ConvergenceWarnings\n",
    "warnings.filterwarnings(action='ignore', category=ConvergenceWarning)\n",
    "\n",
    "\n",
    "X_train, X_test, y_train, y_test = train_test_split(X_train, y_train, test_size=0.3, random_state=42)\n",
    "\n",
    "\n",
    "\n",
    "\n",
    "# Model listesi\n",
    "models = [\n",
    "    ('LogisticRegression', LogisticRegression()),\n",
    "    ('DecisionTree', DecisionTreeClassifier()),\n",
    "    ('RandomForest', RandomForestClassifier()),\n",
    "    ('GradientBoosting', GradientBoostingClassifier()),\n",
    "    ('AdaBoost', AdaBoostClassifier()),\n",
    "    ('ExtraTrees', ExtraTreesClassifier()),\n",
    "    ('Bagging', BaggingClassifier()),\n",
    "    ('KNeighbors', KNeighborsClassifier()),\n",
    "    ('QDA', QuadraticDiscriminantAnalysis()),\n",
    "    ('LDA', LinearDiscriminantAnalysis()),\n",
    "    ('XGB', XGBClassifier(use_label_encoder=False, eval_metric='logloss')),\n",
    "    ('LGBM', LGBMClassifier(verbosity=-1)),\n",
    "    ('CatBoost', CatBoostClassifier(silent=True)),\n",
    "    ('GaussianNB', GaussianNB()),\n",
    "    ('BernoulliNB', BernoulliNB()),\n",
    "    ('MultinomialNB', MultinomialNB()),\n",
    "    ('MLP', MLPClassifier(max_iter=300))\n",
    "]\n",
    "\n",
    "# Hiperparametreler için grid\n",
    "param_grids = {\n",
    "    'LogisticRegression': {'C': [0.1, 1, 10]},\n",
    "    'DecisionTree': {'max_depth': [3, 5, 7]},\n",
    "    'RandomForest': {'n_estimators': [50, 100, 200], 'max_depth': [3, 5, 7]},\n",
    "    'GradientBoosting': {'n_estimators': [50, 100, 200], 'learning_rate': [0.01, 0.1, 0.2]},\n",
    "    'AdaBoost': {'n_estimators': [50, 100, 200]},\n",
    "    'ExtraTrees': {'n_estimators': [50, 100, 200], 'max_depth': [3, 5, 7]},\n",
    "    'Bagging': {'n_estimators': [50, 100, 200]},\n",
    "    'KNeighbors': {'n_neighbors': [3, 5, 7]},\n",
    "    'QDA': {},\n",
    "    'LDA': {},\n",
    "    'XGB': {'n_estimators': [50, 100, 200], 'learning_rate': [0.01, 0.1, 0.2]},\n",
    "    'LGBM': {'n_estimators': [50, 100, 200], 'learning_rate': [0.01, 0.1, 0.2]},\n",
    "    'CatBoost': {'iterations': [50, 100, 200], 'learning_rate': [0.01, 0.1, 0.2]},\n",
    "    'GaussianNB': {},\n",
    "    'BernoulliNB': {'alpha': [0.01, 0.1, 1]},\n",
    "    'MultinomialNB': {'alpha': [0.01, 0.1, 1]},\n",
    "    'MLP': {'hidden_layer_sizes': [(100,), (100, 50), (50, 50)], 'activation': ['relu', 'tanh']}\n",
    "}\n",
    "\n",
    "# Modellerin eğitimi ve değerlendirilmesi\n",
    "results = []\n",
    "for name, model in models:\n",
    "    print(f\"Training {name}\")\n",
    "    param_grid = param_grids.get(name, {})\n",
    "    grid_search = GridSearchCV(model, param_grid, cv=5, scoring='accuracy')\n",
    "    grid_search.fit(X_train, y_train)\n",
    "    \n",
    "    best_model = grid_search.best_estimator_\n",
    "    y_pred = best_model.predict(X_test)\n",
    "    \n",
    "    accuracy = accuracy_score(y_test, y_pred)\n",
    "    precision = precision_score(y_test, y_pred, average='weighted')\n",
    "    recall = recall_score(y_test, y_pred, average='weighted')\n",
    "    f1 = f1_score(y_test, y_pred, average='weighted')\n",
    "    cm = confusion_matrix(y_test, y_pred)\n",
    "    \n",
    "    results.append({\n",
    "        'Model': name,\n",
    "        'Best Params': grid_search.best_params_,\n",
    "        'Accuracy': accuracy,\n",
    "        'Precision': precision,\n",
    "        'Recall': recall,\n",
    "        'F1 Score': f1,\n",
    "        'Confusion Matrix': cm\n",
    "    })\n",
    "\n",
    "# Sonuçları yazdırma\n",
    "for result in results:\n",
    "    print(f\"Model: {result['Model']}\")\n",
    "    print(f\"Best Params: {result['Best Params']}\")\n",
    "    print(f\"Accuracy: {result['Accuracy']}\")\n",
    "    print(f\"Precision: {result['Precision']}\")\n",
    "    print(f\"Recall: {result['Recall']}\")\n",
    "    print(f\"F1 Score: {result['F1 Score']}\")\n",
    "    print(f\"Confusion Matrix:\\n{result['Confusion Matrix']}\")\n",
    "    print(\"\\n\")"
   ]
  },
  {
   "cell_type": "markdown",
   "id": "6e41eb25",
   "metadata": {
    "papermill": {
     "duration": 0.039847,
     "end_time": "2024-06-13T17:16:04.660029",
     "exception": false,
     "start_time": "2024-06-13T17:16:04.620182",
     "status": "completed"
    },
    "tags": []
   },
   "source": [
    "Model: DecisionTree\n",
    "Best Params: {'max_depth': 3}\n",
    "Accuracy: 0.8320610687022901\n",
    "Precision: 0.832175429568002\n",
    "Recall: 0.8320610687022901\n",
    "F1 Score: 0.8287108803030008\n",
    "Confusion Matrix:\n",
    "[[74  7]\n",
    " [15 35]]\n",
    " \n",
    " \n",
    "Model: GradientBoosting\n",
    "Best Params: {'learning_rate': 0.01, 'n_estimators': 100}\n",
    "Accuracy: 0.8244274809160306\n",
    "Precision: 0.8235943224182174\n",
    "Recall: 0.8244274809160306\n",
    "F1 Score: 0.8214560302526511\n",
    "Confusion Matrix:\n",
    "[[73  8]\n",
    " [15 35]]\n",
    " \n",
    " \n",
    " \n",
    " Model: ExtraTrees\n",
    "Best Params: {'max_depth': 5, 'n_estimators': 200}\n",
    "Accuracy: 0.8396946564885496\n",
    "Precision: 0.8394969578619499\n",
    "Recall: 0.8396946564885496\n",
    "F1 Score: 0.8369815928393769\n",
    "Confusion Matrix:\n",
    "[[74  7]\n",
    " [14 36]]\n",
    " \n",
    " \n",
    " Model: LGBM\n",
    "Best Params: {'learning_rate': 0.01, 'n_estimators': 200}\n",
    "Accuracy: 0.8244274809160306\n",
    "Precision: 0.8249115620927202\n",
    "Recall: 0.8244274809160306\n",
    "F1 Score: 0.8203656528284894\n",
    "Confusion Matrix:\n",
    "[[74  7]\n",
    " [16 34]]\n",
    " \n",
    " \n",
    " Model: CatBoost\n",
    "Best Params: {'iterations': 50, 'learning_rate': 0.1}\n",
    "Accuracy: 0.8320610687022901\n",
    "Precision: 0.832175429568002\n",
    "Recall: 0.8320610687022901\n",
    "F1 Score: 0.8287108803030008\n",
    "Confusion Matrix:\n",
    "[[74  7]\n",
    " [15 35]]\n"
   ]
  },
  {
   "cell_type": "code",
   "execution_count": 54,
   "id": "1d218027",
   "metadata": {
    "execution": {
     "iopub.execute_input": "2024-06-13T17:16:04.728703Z",
     "iopub.status.busy": "2024-06-13T17:16:04.728312Z",
     "iopub.status.idle": "2024-06-13T17:16:04.736606Z",
     "shell.execute_reply": "2024-06-13T17:16:04.735219Z"
    },
    "papermill": {
     "duration": 0.046172,
     "end_time": "2024-06-13T17:16:04.739458",
     "exception": false,
     "start_time": "2024-06-13T17:16:04.693286",
     "status": "completed"
    },
    "tags": []
   },
   "outputs": [],
   "source": [
    "#Train ve testi aşağıdaki gibi ayırıyoruz\n",
    "X_train=X[:891] #Train veri setinde ilk 891\n",
    "X_test=X[891:]\n",
    "y_train=y[:891]\n",
    "y_test=y[891:]"
   ]
  },
  {
   "cell_type": "code",
   "execution_count": 55,
   "id": "812cd433",
   "metadata": {
    "execution": {
     "iopub.execute_input": "2024-06-13T17:16:04.809487Z",
     "iopub.status.busy": "2024-06-13T17:16:04.809045Z",
     "iopub.status.idle": "2024-06-13T17:16:05.209387Z",
     "shell.execute_reply": "2024-06-13T17:16:05.207866Z"
    },
    "papermill": {
     "duration": 0.438445,
     "end_time": "2024-06-13T17:16:05.212314",
     "exception": false,
     "start_time": "2024-06-13T17:16:04.773869",
     "status": "completed"
    },
    "tags": []
   },
   "outputs": [
    {
     "data": {
      "text/plain": [
       "array([0., 1., 0., 0., 1., 0., 1., 0., 1., 0., 0., 0., 1., 0., 1., 1., 0.,\n",
       "       0., 1., 1., 0., 1., 1., 0., 1., 0., 1., 0., 0., 0., 0., 0., 1., 1.,\n",
       "       0., 0., 1., 1., 0., 0., 0., 0., 0., 1., 1., 0., 0., 0., 1., 1., 0.,\n",
       "       0., 1., 1., 0., 0., 0., 0., 0., 1., 0., 0., 0., 1., 1., 1., 1., 0.,\n",
       "       0., 1., 1., 0., 1., 0., 1., 0., 0., 1., 0., 1., 1., 0., 0., 0., 0.,\n",
       "       0., 1., 1., 1., 1., 1., 0., 1., 0., 0., 0., 1., 0., 1., 0., 1., 0.,\n",
       "       0., 0., 1., 0., 0., 0., 0., 0., 0., 1., 1., 1., 1., 0., 0., 1., 0.,\n",
       "       1., 1., 0., 1., 0., 0., 1., 0., 1., 0., 0., 0., 0., 0., 0., 0., 0.,\n",
       "       0., 0., 1., 0., 0., 1., 0., 0., 0., 0., 0., 0., 0., 0., 1., 0., 0.,\n",
       "       1., 0., 0., 1., 1., 0., 1., 1., 1., 1., 0., 0., 1., 0., 0., 1., 1.,\n",
       "       0., 0., 0., 0., 0., 1., 1., 0., 1., 1., 0., 0., 1., 0., 1., 0., 1.,\n",
       "       0., 0., 0., 0., 0., 1., 0., 1., 0., 1., 1., 0., 1., 1., 1., 0., 1.,\n",
       "       0., 0., 1., 0., 1., 0., 0., 0., 0., 1., 0., 0., 1., 0., 1., 0., 1.,\n",
       "       0., 1., 0., 1., 1., 0., 1., 0., 0., 0., 1., 0., 0., 0., 0., 0., 0.,\n",
       "       1., 1., 1., 1., 0., 0., 0., 0., 1., 0., 1., 1., 1., 0., 0., 0., 0.,\n",
       "       0., 0., 0., 1., 0., 0., 0., 1., 1., 0., 0., 0., 0., 1., 0., 0., 0.,\n",
       "       1., 1., 0., 1., 0., 0., 0., 0., 1., 1., 1., 1., 1., 0., 0., 0., 0.,\n",
       "       0., 0., 1., 0., 0., 0., 0., 1., 0., 0., 0., 0., 0., 0., 0., 1., 1.,\n",
       "       0., 1., 0., 1., 0., 0., 0., 1., 1., 1., 0., 0., 0., 0., 0., 0., 0.,\n",
       "       0., 1., 0., 1., 0., 0., 0., 1., 0., 0., 1., 0., 0., 0., 0., 0., 1.,\n",
       "       0., 0., 0., 1., 1., 1., 0., 1., 0., 1., 1., 0., 0., 0., 1., 0., 1.,\n",
       "       0., 0., 1., 0., 1., 1., 0., 1., 0., 0., 0., 1., 0., 0., 1., 0., 0.,\n",
       "       1., 1., 0., 0., 0., 0., 0., 0., 1., 1., 0., 1., 0., 0., 0., 0., 0.,\n",
       "       1., 1., 0., 0., 1., 0., 1., 0., 0., 1., 0., 1., 0., 0., 0., 0., 0.,\n",
       "       1., 1., 1., 1., 1., 0., 1., 0., 0., 1.])"
      ]
     },
     "execution_count": 55,
     "metadata": {},
     "output_type": "execute_result"
    }
   ],
   "source": [
    "XTC=ExtraTreesClassifier(max_depth=5, n_estimators=200)\n",
    "XTC.fit(X_train,y_train)# Testi kaggle üzerinden yapacağımız için artık veri setini bölmeden elimizdeki tüm veri setini gönderiyoruz.\n",
    "y_pred=XTC.predict(X_test)\n",
    "y_pred"
   ]
  },
  {
   "cell_type": "code",
   "execution_count": 56,
   "id": "8142bcff",
   "metadata": {
    "execution": {
     "iopub.execute_input": "2024-06-13T17:16:05.282089Z",
     "iopub.status.busy": "2024-06-13T17:16:05.281701Z",
     "iopub.status.idle": "2024-06-13T17:16:05.294842Z",
     "shell.execute_reply": "2024-06-13T17:16:05.293601Z"
    },
    "papermill": {
     "duration": 0.051531,
     "end_time": "2024-06-13T17:16:05.297611",
     "exception": false,
     "start_time": "2024-06-13T17:16:05.246080",
     "status": "completed"
    },
    "tags": []
   },
   "outputs": [
    {
     "data": {
      "text/html": [
       "<div>\n",
       "<style scoped>\n",
       "    .dataframe tbody tr th:only-of-type {\n",
       "        vertical-align: middle;\n",
       "    }\n",
       "\n",
       "    .dataframe tbody tr th {\n",
       "        vertical-align: top;\n",
       "    }\n",
       "\n",
       "    .dataframe thead th {\n",
       "        text-align: right;\n",
       "    }\n",
       "</style>\n",
       "<table border=\"1\" class=\"dataframe\">\n",
       "  <thead>\n",
       "    <tr style=\"text-align: right;\">\n",
       "      <th></th>\n",
       "      <th>PassengerId</th>\n",
       "      <th>Survived</th>\n",
       "    </tr>\n",
       "  </thead>\n",
       "  <tbody>\n",
       "    <tr>\n",
       "      <th>0</th>\n",
       "      <td>892</td>\n",
       "      <td>0</td>\n",
       "    </tr>\n",
       "    <tr>\n",
       "      <th>1</th>\n",
       "      <td>893</td>\n",
       "      <td>1</td>\n",
       "    </tr>\n",
       "    <tr>\n",
       "      <th>2</th>\n",
       "      <td>894</td>\n",
       "      <td>0</td>\n",
       "    </tr>\n",
       "    <tr>\n",
       "      <th>3</th>\n",
       "      <td>895</td>\n",
       "      <td>0</td>\n",
       "    </tr>\n",
       "    <tr>\n",
       "      <th>4</th>\n",
       "      <td>896</td>\n",
       "      <td>1</td>\n",
       "    </tr>\n",
       "    <tr>\n",
       "      <th>...</th>\n",
       "      <td>...</td>\n",
       "      <td>...</td>\n",
       "    </tr>\n",
       "    <tr>\n",
       "      <th>413</th>\n",
       "      <td>1305</td>\n",
       "      <td>0</td>\n",
       "    </tr>\n",
       "    <tr>\n",
       "      <th>414</th>\n",
       "      <td>1306</td>\n",
       "      <td>1</td>\n",
       "    </tr>\n",
       "    <tr>\n",
       "      <th>415</th>\n",
       "      <td>1307</td>\n",
       "      <td>0</td>\n",
       "    </tr>\n",
       "    <tr>\n",
       "      <th>416</th>\n",
       "      <td>1308</td>\n",
       "      <td>0</td>\n",
       "    </tr>\n",
       "    <tr>\n",
       "      <th>417</th>\n",
       "      <td>1309</td>\n",
       "      <td>1</td>\n",
       "    </tr>\n",
       "  </tbody>\n",
       "</table>\n",
       "<p>418 rows × 2 columns</p>\n",
       "</div>"
      ],
      "text/plain": [
       "     PassengerId  Survived\n",
       "0            892         0\n",
       "1            893         1\n",
       "2            894         0\n",
       "3            895         0\n",
       "4            896         1\n",
       "..           ...       ...\n",
       "413         1305         0\n",
       "414         1306         1\n",
       "415         1307         0\n",
       "416         1308         0\n",
       "417         1309         1\n",
       "\n",
       "[418 rows x 2 columns]"
      ]
     },
     "execution_count": 56,
     "metadata": {},
     "output_type": "execute_result"
    }
   ],
   "source": [
    "submission = pd.DataFrame({'PassengerId': df_test.PassengerId, 'Survived': y_pred.astype(int)})\n",
    "submission"
   ]
  },
  {
   "cell_type": "code",
   "execution_count": 57,
   "id": "c1765bd5",
   "metadata": {
    "execution": {
     "iopub.execute_input": "2024-06-13T17:16:05.367734Z",
     "iopub.status.busy": "2024-06-13T17:16:05.367342Z",
     "iopub.status.idle": "2024-06-13T17:16:05.376593Z",
     "shell.execute_reply": "2024-06-13T17:16:05.375528Z"
    },
    "papermill": {
     "duration": 0.04725,
     "end_time": "2024-06-13T17:16:05.379187",
     "exception": false,
     "start_time": "2024-06-13T17:16:05.331937",
     "status": "completed"
    },
    "tags": []
   },
   "outputs": [],
   "source": [
    "submission.to_csv('submission.csv', index=False) #data frame i csv dosyası oalrak kaydediyor"
   ]
  }
 ],
 "metadata": {
  "kaggle": {
   "accelerator": "none",
   "dataSources": [
    {
     "databundleVersionId": 26502,
     "sourceId": 3136,
     "sourceType": "competition"
    }
   ],
   "dockerImageVersionId": 30732,
   "isGpuEnabled": false,
   "isInternetEnabled": true,
   "language": "python",
   "sourceType": "notebook"
  },
  "kernelspec": {
   "display_name": "Python 3",
   "language": "python",
   "name": "python3"
  },
  "language_info": {
   "codemirror_mode": {
    "name": "ipython",
    "version": 3
   },
   "file_extension": ".py",
   "mimetype": "text/x-python",
   "name": "python",
   "nbconvert_exporter": "python",
   "pygments_lexer": "ipython3",
   "version": "3.10.13"
  },
  "papermill": {
   "default_parameters": {},
   "duration": 94.219073,
   "end_time": "2024-06-13T17:16:06.238710",
   "environment_variables": {},
   "exception": null,
   "input_path": "__notebook__.ipynb",
   "output_path": "__notebook__.ipynb",
   "parameters": {},
   "start_time": "2024-06-13T17:14:32.019637",
   "version": "2.5.0"
  }
 },
 "nbformat": 4,
 "nbformat_minor": 5
}
